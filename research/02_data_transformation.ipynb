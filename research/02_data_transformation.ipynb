{
 "cells": [
  {
   "cell_type": "code",
   "execution_count": 98,
   "id": "77e9b2ea",
   "metadata": {},
   "outputs": [],
   "source": [
    "import numpy as np\n",
    "import pandas as pd\n",
    "import os\n",
    "\n",
    "import seaborn as sns\n",
    "import matplotlib.pyplot as plt\n",
    "\n",
    "from scipy import optimize, stats\n",
    "from scipy.special import comb"
   ]
  },
  {
   "cell_type": "code",
   "execution_count": 2,
   "id": "3f0f3363",
   "metadata": {},
   "outputs": [
    {
     "data": {
      "text/plain": [
       "'c:\\\\Users\\\\Admin\\\\PhD Projects\\\\balance_continuous\\\\research'"
      ]
     },
     "execution_count": 2,
     "metadata": {},
     "output_type": "execute_result"
    }
   ],
   "source": [
    "%pwd"
   ]
  },
  {
   "cell_type": "code",
   "execution_count": 3,
   "id": "20e15b67",
   "metadata": {},
   "outputs": [
    {
     "data": {
      "text/plain": [
       "'c:\\\\Users\\\\Admin\\\\PhD Projects\\\\balance_continuous'"
      ]
     },
     "execution_count": 3,
     "metadata": {},
     "output_type": "execute_result"
    }
   ],
   "source": [
    "os.chdir(\"../\")\n",
    "%pwd"
   ]
  },
  {
   "cell_type": "markdown",
   "id": "470d9914",
   "metadata": {},
   "source": [
    "### Kendall tau estimation"
   ]
  },
  {
   "cell_type": "code",
   "execution_count": 4,
   "id": "030c400c",
   "metadata": {},
   "outputs": [],
   "source": [
    "def bw_scott(data: np.ndarray):\n",
    "    std_dev = np.std(data, axis=0, ddof=1)\n",
    "    n = len(data)\n",
    "    return 3.49 * std_dev * n ** (-0.333)\n",
    "\n",
    "def bw_silverman(data: np.ndarray):\n",
    "    def _select_sigma(x):\n",
    "        normalizer = 1.349\n",
    "        iqr = (stats.scoreatpercentile(x, 75) - stats.scoreatpercentile(x, 25)) / normalizer\n",
    "        std_dev = np.std(x, axis=0, ddof=1)\n",
    "        return np.minimum(std_dev, iqr) if iqr > 0 else std_dev\n",
    "    sigma = _select_sigma(data)\n",
    "    n = len(data)\n",
    "    return 0.9 * sigma * n ** (-0.2)\n",
    "\n",
    "def bw_mlcv(data: np.ndarray, k):\n",
    "    \"\"\"\n",
    "    Ref: https://rdrr.io/cran/kedd/src/R/MLCV.R\n",
    "    \"\"\"\n",
    "    n = len(data)\n",
    "    x = np.linspace(np.min(data), np.max(data), n)\n",
    "    def mlcv(h):\n",
    "        fj = np.zeros(n)\n",
    "        for j in range(n):\n",
    "            for i in range(n):\n",
    "                if i == j: continue\n",
    "                fj[j] += k((x[j] - data[i]) / h)\n",
    "            fj[j] /= (n - 1) * h\n",
    "        return -np.mean(np.log(fj[fj > 0]))\n",
    "    h = optimize.minimize(mlcv, 1)\n",
    "    if np.abs(h.x[0]) > 10:\n",
    "        return bw_scott(data)\n",
    "    return h.x[0]\n"
   ]
  },
  {
   "cell_type": "code",
   "execution_count": 5,
   "id": "86f0deb0",
   "metadata": {},
   "outputs": [],
   "source": [
    "def kernel(k: str):\n",
    "    \"\"\"Kernel function\n",
    "\n",
    "    Args:\n",
    "        k (str): kernel name: ['gaussian', 'epanechnikov']\n",
    "    \"\"\"\n",
    "    if k not in ['gaussian', 'epanechnikov']:\n",
    "        raise ValueError('Unknown kernel')\n",
    "    \n",
    "    def bounded(f): # decorator\n",
    "        def _f(x):  # wrapper function\n",
    "            return f(x) if np.abs(x) <= 1 else 0\n",
    "        return _f\n",
    "    \n",
    "    if k == 'gaussian':\n",
    "        return lambda u: 1 / np.sqrt(2 * np.pi) * np.exp(-1 / 2 * u * u)\n",
    "    elif k == 'epanechnikov':\n",
    "        return bounded(lambda u: (3 / 4 * (1 - u * u)))\n",
    "    \n",
    "    \n",
    "def kernel_weights(t, s, h, S, k=None):\n",
    "    if k is None:\n",
    "        k = kernel('epanechnikov')\n",
    "    wh = k((t - s)/(S*h))\n",
    "    return wh/(S*h)\n",
    "\n",
    "# calculate tau \n",
    "def kendall_tau_estimator(Y_A, Y_B, h=None):\n",
    "    assert len(Y_A) == len(Y_B), \"Length Y_A and Y_B must be same\"\n",
    "    if h is None:\n",
    "        h = 0.1\n",
    "        print(h)\n",
    "    S = len(Y_A) # both Y_A and Y_B needs to be of equal length\n",
    "    tau_estimates = []\n",
    "    # Create kernel function\n",
    "    k = kernel('epanechnikov')\n",
    "    for t in range(1,S+1):\n",
    "        # weights = np.array([k((t - s) / (S * h)) / (S * h) for s in range(1, S + 1)])\n",
    "        weights = np.array([kernel_weights(t, s, h, S) for s in range(1, S+1)])\n",
    "        normalize = 1 - np.sum(weights**2)\n",
    "        if normalize <=0:\n",
    "            raise ValueError(\"Normalization is less than 0, Adjust 'h'\")\n",
    "        summed_weights = 0\n",
    "        # for s_idx, s in enumerate(range(1, S + 1)):\n",
    "        #     for r_idx, r in enumerate(range(1, S + 1)):\n",
    "        #         # Indicator function: I[{Y_A(s) < Y_A(r), Y_B(s) < Y_B(r)}]\n",
    "        #         # Using 0-indexing for arrays\n",
    "        #         indicator = int((Y_A[s_idx] < Y_A[r_idx]) and (Y_B[s_idx] < Y_B[r_idx]))\n",
    "                \n",
    "        #         summed_weights += weights[s_idx] * weights[r_idx] * indicator\n",
    "        # Vectorized computation using broadcasting\n",
    "        # Create comparison matrices\n",
    "        Y_A_comparison = Y_A[:, np.newaxis] < Y_A[np.newaxis, :]  # Shape: (S, S)\n",
    "        Y_B_comparison = Y_B[:, np.newaxis] < Y_B[np.newaxis, :]  # Shape: (S, S)\n",
    "        \n",
    "        # Concordant pairs indicator\n",
    "        indicator_matrix = (Y_A_comparison & Y_B_comparison).astype(int)\n",
    "        \n",
    "        # Weight matrix (outer product)\n",
    "        weight_matrix = weights[:, np.newaxis] * weights[np.newaxis, :]  # Shape: (S, S)\n",
    "        \n",
    "        # Sum all weighted indicators\n",
    "        summed_weights = np.sum(weight_matrix * indicator_matrix)\n",
    "        tau_t = (4/normalize )*summed_weights-1\n",
    "        tau_estimates.append(tau_t)\n",
    "    return tau_estimates"
   ]
  },
  {
   "cell_type": "code",
   "execution_count": 124,
   "id": "9cea55a5",
   "metadata": {},
   "outputs": [
    {
     "name": "stdout",
     "output_type": "stream",
     "text": [
      "[1 3 2 4]\n",
      "[[0 1 1 1]\n",
      " [0 0 0 1]\n",
      " [0 1 0 1]\n",
      " [0 0 0 0]]\n"
     ]
    }
   ],
   "source": [
    "Y_A = np.array([1, 3, 2, 4])\n",
    "# Y_B = np.array([2, 4, 1, 3])\n",
    "Y_B = Y_A\n",
    "print(Y_A)\n",
    "Y_A_comparison = Y_A[:, np.newaxis] < Y_A[np.newaxis, :] \n",
    "Y_B_comparison = Y_B.reshape(-1, 1) < Y_B.reshape(1, -1)\n",
    "indicator_matrix = (Y_A_comparison & Y_B_comparison).astype(int)\n",
    "print(indicator_matrix)"
   ]
  },
  {
   "cell_type": "code",
   "execution_count": 125,
   "id": "143acd99",
   "metadata": {},
   "outputs": [
    {
     "name": "stdout",
     "output_type": "stream",
     "text": [
      "[1 2 1 3]\n",
      "[[1 2 1 3]\n",
      " [2 4 2 6]\n",
      " [1 2 1 3]\n",
      " [3 6 3 9]]\n"
     ]
    },
    {
     "data": {
      "text/plain": [
       "np.int64(17)"
      ]
     },
     "execution_count": 125,
     "metadata": {},
     "output_type": "execute_result"
    }
   ],
   "source": [
    "weights = np.array([1, 2, 1, 3])\n",
    "print(weights)\n",
    "weight_matrix = weights.reshape(-1, 1) * weights.reshape(1, -1)\n",
    "print(weight_matrix)\n",
    "np.sum(weight_matrix*indicator_matrix)"
   ]
  },
  {
   "cell_type": "code",
   "execution_count": 61,
   "id": "2f7d9b2b",
   "metadata": {},
   "outputs": [
    {
     "name": "stdout",
     "output_type": "stream",
     "text": [
      "Tau estimate at t=100 is 0.999595161943369\n",
      "Tau estimate at t=500 is 0.9995951619433687\n",
      "Tau estimate at t=900 is 0.9995951619433687\n"
     ]
    },
    {
     "data": {
      "image/png": "[encoded data removed]",
      "text/plain": [
       "<Figure size 1200x500 with 2 Axes>"
      ]
     },
     "metadata": {},
     "output_type": "display_data"
    }
   ],
   "source": [
    "# test 1\n",
    "Y_A = np.arange(1, 1001)\n",
    "Y_B = np.power(Y_A, 2)\n",
    "# Y_B = np.arange(100, 199)\n",
    "S = 1000\n",
    "t = np.arange(1, S+1)\n",
    "tau_estimate = kendall_tau_estimator(Y_A, Y_B, h=0.05)\n",
    "for time_point in [100, 500, 900]:\n",
    "    print(f\"Tau estimate at t={time_point} is {tau_estimate[time_point]}\")\n",
    "\n",
    "fig, (ax1, ax2) = plt.subplots(1, 2, figsize=(12, 5))\n",
    "ax1.plot(t, Y_A, label='Y_A')\n",
    "ax1.plot(t, Y_B, label='Y_B')\n",
    "ax1.set_xlabel('t')\n",
    "ax1.set_ylabel('Value')\n",
    "ax1.grid(True, alpha=0.3)\n",
    "ax1.set_title('Time Series Y_A and Y_B')\n",
    "ax1.legend()\n",
    "\n",
    "ax2.plot(t, tau_estimate)\n",
    "ax2.set_xlabel('t')\n",
    "ax2.set_ylabel(r'$\\tau$')\n",
    "ax2.set_title(\"Time-Varying Kendall's Tau\")\n",
    "ax2.grid(True, alpha=0.3)"
   ]
  },
  {
   "cell_type": "markdown",
   "id": "5cfbb179",
   "metadata": {},
   "source": [
    "#### Kendall estimation for two stocks"
   ]
  },
  {
   "cell_type": "code",
   "execution_count": 15,
   "id": "4191e3ae",
   "metadata": {},
   "outputs": [
    {
     "data": {
      "application/vnd.microsoft.datawrangler.viewer.v0+json": {
       "columns": [
        {
         "name": "index",
         "rawType": "int64",
         "type": "integer"
        },
        {
         "name": "Adj Close",
         "rawType": "float64",
         "type": "float"
        },
        {
         "name": "Close",
         "rawType": "float64",
         "type": "float"
        },
        {
         "name": "High",
         "rawType": "float64",
         "type": "float"
        },
        {
         "name": "Low",
         "rawType": "float64",
         "type": "float"
        },
        {
         "name": "Open",
         "rawType": "float64",
         "type": "float"
        },
        {
         "name": "Volume",
         "rawType": "int64",
         "type": "integer"
        },
        {
         "name": "Ticker",
         "rawType": "object",
         "type": "string"
        },
        {
         "name": "Year",
         "rawType": "int64",
         "type": "integer"
        },
        {
         "name": "Month",
         "rawType": "int64",
         "type": "integer"
        },
        {
         "name": "Weekday",
         "rawType": "int64",
         "type": "integer"
        },
        {
         "name": "Date",
         "rawType": "datetime64[ns]",
         "type": "datetime"
        }
       ],
       "ref": "4e05dd6b-12eb-471e-bb58-db745b327680",
       "rows": [
        [
         "0",
         "0.8400940299034119",
         "0.9994419813156128",
         "1.004464030265808",
         "0.9079239964485168",
         "0.9363840222358704",
         "535796800",
         "AAPL",
         "2000",
         "1",
         "0",
         "2000-01-03 00:00:00"
        ],
        [
         "1",
         "0.7692659497261047",
         "0.9151790142059326",
         "0.9877229928970337",
         "0.9034600257873535",
         "0.966517984867096",
         "512377600",
         "AAPL",
         "2000",
         "1",
         "1",
         "2000-01-04 00:00:00"
        ],
        [
         "2",
         "0.7805225849151611",
         "0.9285709857940674",
         "0.9871649742126465",
         "0.919642984867096",
         "0.9263389706611633",
         "778321600",
         "AAPL",
         "2000",
         "1",
         "2",
         "2000-01-05 00:00:00"
        ],
        [
         "3",
         "0.7129774689674377",
         "0.8482139706611633",
         "0.955357015132904",
         "0.8482139706611633",
         "0.9475449919700623",
         "767972800",
         "AAPL",
         "2000",
         "1",
         "3",
         "2000-01-06 00:00:00"
        ],
        [
         "4",
         "0.7467507719993591",
         "0.888392984867096",
         "0.9017860293388367",
         "0.8526790142059326",
         "0.861607015132904",
         "460734400",
         "AAPL",
         "2000",
         "1",
         "4",
         "2000-01-07 00:00:00"
        ]
       ],
       "shape": {
        "columns": 11,
        "rows": 5
       }
      },
      "text/html": [
       "<div>\n",
       "<style scoped>\n",
       "    .dataframe tbody tr th:only-of-type {\n",
       "        vertical-align: middle;\n",
       "    }\n",
       "\n",
       "    .dataframe tbody tr th {\n",
       "        vertical-align: top;\n",
       "    }\n",
       "\n",
       "    .dataframe thead th {\n",
       "        text-align: right;\n",
       "    }\n",
       "</style>\n",
       "<table border=\"1\" class=\"dataframe\">\n",
       "  <thead>\n",
       "    <tr style=\"text-align: right;\">\n",
       "      <th>Price</th>\n",
       "      <th>Adj Close</th>\n",
       "      <th>Close</th>\n",
       "      <th>High</th>\n",
       "      <th>Low</th>\n",
       "      <th>Open</th>\n",
       "      <th>Volume</th>\n",
       "      <th>Ticker</th>\n",
       "      <th>Year</th>\n",
       "      <th>Month</th>\n",
       "      <th>Weekday</th>\n",
       "      <th>Date</th>\n",
       "    </tr>\n",
       "  </thead>\n",
       "  <tbody>\n",
       "    <tr>\n",
       "      <th>0</th>\n",
       "      <td>0.840094</td>\n",
       "      <td>0.999442</td>\n",
       "      <td>1.004464</td>\n",
       "      <td>0.907924</td>\n",
       "      <td>0.936384</td>\n",
       "      <td>535796800</td>\n",
       "      <td>AAPL</td>\n",
       "      <td>2000</td>\n",
       "      <td>1</td>\n",
       "      <td>0</td>\n",
       "      <td>2000-01-03</td>\n",
       "    </tr>\n",
       "    <tr>\n",
       "      <th>1</th>\n",
       "      <td>0.769266</td>\n",
       "      <td>0.915179</td>\n",
       "      <td>0.987723</td>\n",
       "      <td>0.903460</td>\n",
       "      <td>0.966518</td>\n",
       "      <td>512377600</td>\n",
       "      <td>AAPL</td>\n",
       "      <td>2000</td>\n",
       "      <td>1</td>\n",
       "      <td>1</td>\n",
       "      <td>2000-01-04</td>\n",
       "    </tr>\n",
       "    <tr>\n",
       "      <th>2</th>\n",
       "      <td>0.780523</td>\n",
       "      <td>0.928571</td>\n",
       "      <td>0.987165</td>\n",
       "      <td>0.919643</td>\n",
       "      <td>0.926339</td>\n",
       "      <td>778321600</td>\n",
       "      <td>AAPL</td>\n",
       "      <td>2000</td>\n",
       "      <td>1</td>\n",
       "      <td>2</td>\n",
       "      <td>2000-01-05</td>\n",
       "    </tr>\n",
       "    <tr>\n",
       "      <th>3</th>\n",
       "      <td>0.712977</td>\n",
       "      <td>0.848214</td>\n",
       "      <td>0.955357</td>\n",
       "      <td>0.848214</td>\n",
       "      <td>0.947545</td>\n",
       "      <td>767972800</td>\n",
       "      <td>AAPL</td>\n",
       "      <td>2000</td>\n",
       "      <td>1</td>\n",
       "      <td>3</td>\n",
       "      <td>2000-01-06</td>\n",
       "    </tr>\n",
       "    <tr>\n",
       "      <th>4</th>\n",
       "      <td>0.746751</td>\n",
       "      <td>0.888393</td>\n",
       "      <td>0.901786</td>\n",
       "      <td>0.852679</td>\n",
       "      <td>0.861607</td>\n",
       "      <td>460734400</td>\n",
       "      <td>AAPL</td>\n",
       "      <td>2000</td>\n",
       "      <td>1</td>\n",
       "      <td>4</td>\n",
       "      <td>2000-01-07</td>\n",
       "    </tr>\n",
       "  </tbody>\n",
       "</table>\n",
       "</div>"
      ],
      "text/plain": [
       "Price  Adj Close     Close      High       Low      Open     Volume Ticker  \\\n",
       "0       0.840094  0.999442  1.004464  0.907924  0.936384  535796800   AAPL   \n",
       "1       0.769266  0.915179  0.987723  0.903460  0.966518  512377600   AAPL   \n",
       "2       0.780523  0.928571  0.987165  0.919643  0.926339  778321600   AAPL   \n",
       "3       0.712977  0.848214  0.955357  0.848214  0.947545  767972800   AAPL   \n",
       "4       0.746751  0.888393  0.901786  0.852679  0.861607  460734400   AAPL   \n",
       "\n",
       "Price  Year  Month  Weekday       Date  \n",
       "0      2000      1        0 2000-01-03  \n",
       "1      2000      1        1 2000-01-04  \n",
       "2      2000      1        2 2000-01-05  \n",
       "3      2000      1        3 2000-01-06  \n",
       "4      2000      1        4 2000-01-07  "
      ]
     },
     "execution_count": 15,
     "metadata": {},
     "output_type": "execute_result"
    }
   ],
   "source": [
    "# load data\n",
    "tickers_df = pd.read_parquet('artifacts/data_ingestion/tickers_df.parquet')\n",
    "tickers_df.head()"
   ]
  },
  {
   "cell_type": "code",
   "execution_count": 16,
   "id": "335474ef",
   "metadata": {},
   "outputs": [
    {
     "data": {
      "text/plain": [
       "300923"
      ]
     },
     "execution_count": 16,
     "metadata": {},
     "output_type": "execute_result"
    }
   ],
   "source": [
    "len(tickers_df)"
   ]
  },
  {
   "cell_type": "code",
   "execution_count": 17,
   "id": "fc6eb4fb",
   "metadata": {},
   "outputs": [],
   "source": [
    "# calculate log returns\n"
   ]
  },
  {
   "cell_type": "code",
   "execution_count": null,
   "id": "7f64fa01",
   "metadata": {},
   "outputs": [],
   "source": [
    "start_date = pd.to_datetime('2000-01-01')\n",
    "end_date = pd.to_datetime('2024-12-31')\n",
    "\n",
    "# Filter for a date range\n",
    "price_data_range = tickers_df[\n",
    "    (tickers_df['Date'] >= start_date) & \n",
    "    (tickers_df['Date'] <= end_date)\n",
    "]\n",
    "# ticker_given_date = tickers_df[tickers_df['Date']==choose_date]\n",
    "\n",
    "# ticker_given_date = ticker_given_date[['Date','Adj Close', 'Ticker']].reset_index(drop=True)\n",
    "# ticker_given_date.head()"
   ]
  },
  {
   "cell_type": "code",
   "execution_count": 9,
   "id": "f2bb74f8",
   "metadata": {},
   "outputs": [
    {
     "data": {
      "application/vnd.microsoft.datawrangler.viewer.v0+json": {
       "columns": [
        {
         "name": "Date",
         "rawType": "datetime64[ns]",
         "type": "datetime"
        },
        {
         "name": "AAPL",
         "rawType": "float64",
         "type": "float"
        },
        {
         "name": "ABBV",
         "rawType": "float64",
         "type": "float"
        },
        {
         "name": "ABT",
         "rawType": "float64",
         "type": "float"
        },
        {
         "name": "ACN",
         "rawType": "float64",
         "type": "float"
        },
        {
         "name": "ADBE",
         "rawType": "float64",
         "type": "float"
        },
        {
         "name": "AMD",
         "rawType": "float64",
         "type": "float"
        },
        {
         "name": "AMZN",
         "rawType": "float64",
         "type": "float"
        },
        {
         "name": "AVGO",
         "rawType": "float64",
         "type": "float"
        },
        {
         "name": "BAC",
         "rawType": "float64",
         "type": "float"
        },
        {
         "name": "BRK-B",
         "rawType": "float64",
         "type": "float"
        },
        {
         "name": "CAT",
         "rawType": "float64",
         "type": "float"
        },
        {
         "name": "COST",
         "rawType": "float64",
         "type": "float"
        },
        {
         "name": "CRM",
         "rawType": "float64",
         "type": "float"
        },
        {
         "name": "CSCO",
         "rawType": "float64",
         "type": "float"
        },
        {
         "name": "CVX",
         "rawType": "float64",
         "type": "float"
        },
        {
         "name": "DHR",
         "rawType": "float64",
         "type": "float"
        },
        {
         "name": "DIS",
         "rawType": "float64",
         "type": "float"
        },
        {
         "name": "GE",
         "rawType": "float64",
         "type": "float"
        },
        {
         "name": "GOOGL",
         "rawType": "float64",
         "type": "float"
        },
        {
         "name": "HD",
         "rawType": "float64",
         "type": "float"
        },
        {
         "name": "IBM",
         "rawType": "float64",
         "type": "float"
        },
        {
         "name": "INTU",
         "rawType": "float64",
         "type": "float"
        },
        {
         "name": "JNJ",
         "rawType": "float64",
         "type": "float"
        },
        {
         "name": "JPM",
         "rawType": "float64",
         "type": "float"
        },
        {
         "name": "KO",
         "rawType": "float64",
         "type": "float"
        },
        {
         "name": "LIN",
         "rawType": "float64",
         "type": "float"
        },
        {
         "name": "LLY",
         "rawType": "float64",
         "type": "float"
        },
        {
         "name": "MA",
         "rawType": "float64",
         "type": "float"
        },
        {
         "name": "MCD",
         "rawType": "float64",
         "type": "float"
        },
        {
         "name": "META",
         "rawType": "float64",
         "type": "float"
        },
        {
         "name": "MRK",
         "rawType": "float64",
         "type": "float"
        },
        {
         "name": "MSFT",
         "rawType": "float64",
         "type": "float"
        },
        {
         "name": "NEE",
         "rawType": "float64",
         "type": "float"
        },
        {
         "name": "NFLX",
         "rawType": "float64",
         "type": "float"
        },
        {
         "name": "NOW",
         "rawType": "float64",
         "type": "float"
        },
        {
         "name": "NVDA",
         "rawType": "float64",
         "type": "float"
        },
        {
         "name": "ORCL",
         "rawType": "float64",
         "type": "float"
        },
        {
         "name": "PEP",
         "rawType": "float64",
         "type": "float"
        },
        {
         "name": "PG",
         "rawType": "float64",
         "type": "float"
        },
        {
         "name": "PM",
         "rawType": "float64",
         "type": "float"
        },
        {
         "name": "QCOM",
         "rawType": "float64",
         "type": "float"
        },
        {
         "name": "TMO",
         "rawType": "float64",
         "type": "float"
        },
        {
         "name": "TSLA",
         "rawType": "float64",
         "type": "float"
        },
        {
         "name": "TXN",
         "rawType": "float64",
         "type": "float"
        },
        {
         "name": "UNH",
         "rawType": "float64",
         "type": "float"
        },
        {
         "name": "V",
         "rawType": "float64",
         "type": "float"
        },
        {
         "name": "VZ",
         "rawType": "float64",
         "type": "float"
        },
        {
         "name": "WFC",
         "rawType": "float64",
         "type": "float"
        },
        {
         "name": "WMT",
         "rawType": "float64",
         "type": "float"
        },
        {
         "name": "XOM",
         "rawType": "float64",
         "type": "float"
        }
       ],
       "ref": "893e1c00-55d2-4bcb-bcaa-15c62ba84ede",
       "rows": [
        [
         "2015-01-02 00:00:00",
         "24.261043548583984",
         "42.09141540527344",
         "36.41868591308594",
         "74.25261688232422",
         "72.33999633789062",
         "2.6700000762939453",
         "15.425999641418457",
         "7.574804782867432",
         "14.27745246887207",
         "149.1699981689453",
         "69.32038116455078",
         "114.29747772216797",
         "58.62333679199219",
         "19.81561279296875",
         "70.9936752319336",
         "35.05585861206055",
         "85.94352722167969",
         "102.69722747802734",
         "26.29613494873047",
         "80.41868591308594",
         "98.66405487060547",
         "83.3922119140625",
         "77.44416046142578",
         "46.72093200683594",
         "29.99260139465332",
         "106.71646881103516",
         "57.561153411865234",
         "80.10565185546875",
         "71.09455871582031",
         "77.96934509277344",
         "39.100746154785156",
         "39.933040618896484",
         "20.168506622314453",
         "49.84857177734375",
         "67.37999725341797",
         "0.48303836584091187",
         "37.58309555053711",
         "68.54853057861328",
         "66.98348999023438",
         "47.361263275146484",
         "54.61259841918945",
         "124.0141372680664",
         "14.620667457580566",
         "39.91105270385742",
         "85.04847717285156",
         "61.46247482299805",
         "26.57320213317871",
         "40.370849609375",
         "23.26656723022461",
         "58.42347717285156"
        ],
        [
         "2015-01-05 00:00:00",
         "23.577577590942383",
         "41.29929733276367",
         "36.426780700683594",
         "72.9989242553711",
         "71.9800033569336",
         "2.6600000858306885",
         "15.10949993133545",
         "7.453718185424805",
         "13.86269474029541",
         "147.0",
         "65.66121673583984",
         "112.99803924560547",
         "57.56446838378906",
         "19.420875549316406",
         "68.15594482421875",
         "34.7082405090332",
         "84.6875991821289",
         "100.81212615966797",
         "25.795089721679688",
         "78.73147583007812",
         "97.1115951538086",
         "83.0630874633789",
         "76.90328979492188",
         "45.27048110961914",
         "29.99260139465332",
         "103.89968872070312",
         "56.99423599243164",
         "77.85247039794922",
         "70.30936431884766",
         "76.71707153320312",
         "39.6818962097168",
         "39.56583786010742",
         "19.954893112182617",
         "47.31142807006836",
         "67.1500015258789",
         "0.4748796820640564",
         "37.05603790283203",
         "68.03319549560547",
         "66.6650390625",
         "47.00468444824219",
         "54.35525894165039",
         "122.31056213378906",
         "14.005999565124512",
         "39.2916259765625",
         "83.64761352539062",
         "60.10578536987305",
         "26.352500915527344",
         "39.26380157470703",
         "23.1988582611084",
         "56.82493209838867"
        ],
        [
         "2015-01-06 00:00:00",
         "23.579788208007812",
         "41.094879150390625",
         "36.01311111450195",
         "72.47235107421875",
         "70.52999877929688",
         "2.630000114440918",
         "14.76449966430664",
         "7.2841949462890625",
         "13.447927474975586",
         "146.83999633789062",
         "65.23872375488281",
         "114.49120330810547",
         "56.60456085205078",
         "19.413698196411133",
         "68.12443542480469",
         "34.47105026245117",
         "84.2384033203125",
         "98.6401596069336",
         "25.158479690551758",
         "78.49046325683594",
         "95.01727294921875",
         "80.51221466064453",
         "76.52539825439453",
         "44.096656799316406",
         "30.220348358154297",
         "102.56930541992188",
         "57.281803131103516",
         "77.68416595458984",
         "70.43895721435547",
         "75.68343353271484",
         "41.2407112121582",
         "38.985107421875",
         "20.03239631652832",
         "46.50143051147461",
         "66.33000183105469",
         "0.46048223972320557",
         "36.673492431640625",
         "67.51786041259766",
         "66.36133575439453",
         "47.40803527832031",
         "53.583282470703125",
         "121.1683578491211",
         "14.085332870483398",
         "38.64236831665039",
         "83.47883605957031",
         "59.71847915649414",
         "26.618467330932617",
         "38.44456100463867",
         "23.37761688232422",
         "56.52280807495117"
        ],
        [
         "2015-01-07 00:00:00",
         "23.910438537597656",
         "42.75578689575195",
         "36.30511474609375",
         "73.99352264404297",
         "71.11000061035156",
         "2.5799999237060547",
         "14.920999526977539",
         "7.480960845947266",
         "13.511737823486328",
         "148.8800048828125",
         "66.24972534179688",
         "116.48482513427734",
         "56.337379455566406",
         "19.593122482299805",
         "68.06767272949219",
         "34.67961883544922",
         "85.1001205444336",
         "98.68115234375",
         "25.084489822387695",
         "81.18067932128906",
         "94.39631652832031",
         "81.30072021484375",
         "78.21477508544922",
         "44.163963317871094",
         "30.597583770751953",
         "103.71903228759766",
         "56.87922668457031",
         "78.89259338378906",
         "71.6662826538086",
         "75.68343353271484",
         "42.1226921081543",
         "39.48044204711914",
         "20.215761184692383",
         "46.74285888671875",
         "67.08999633789062",
         "0.4592823088169098",
         "36.681983947753906",
         "69.49214172363281",
         "66.70945739746094",
         "47.76462173461914",
         "54.208229064941406",
         "124.7981948852539",
         "14.063332557678223",
         "39.33641815185547",
         "84.33118438720703",
         "60.51856994628906",
         "26.446691513061523",
         "38.67336654663086",
         "23.997886657714844",
         "57.09554672241211"
        ],
        [
         "2015-01-08 00:00:00",
         "24.82912826538086",
         "43.20296096801758",
         "37.051334381103516",
         "75.12185668945312",
         "72.91999816894531",
         "2.609999895095825",
         "15.02299976348877",
         "7.8548197746276855",
         "13.790904998779297",
         "151.3699951171875",
         "66.92872619628906",
         "117.48565673828125",
         "57.9801025390625",
         "19.74384117126465",
         "69.6252670288086",
         "35.21534729003906",
         "85.98018646240234",
         "99.86958312988281",
         "25.17188835144043",
         "82.97672271728516",
         "96.4479751586914",
         "82.3918228149414",
         "78.82974243164062",
         "45.15086364746094",
         "30.96769142150879",
         "105.42713165283203",
         "58.22662353515625",
         "80.11971282958984",
         "71.93309020996094",
         "77.70098876953125",
         "42.97049331665039",
         "40.641883850097656",
         "20.338638305664062",
         "47.779998779296875",
         "68.88999938964844",
         "0.47655943036079407",
         "36.903011322021484",
         "70.75511932373047",
         "67.47233581542969",
         "48.48362731933594",
         "54.78169631958008",
         "126.09523010253906",
         "14.041333198547363",
         "39.97821044921875",
         "88.35657501220703",
         "61.33027648925781",
         "27.013532638549805",
         "39.52950668334961",
         "24.50437355041504",
         "58.04585647583008"
        ]
       ],
       "shape": {
        "columns": 50,
        "rows": 5
       }
      },
      "text/html": [
       "<div>\n",
       "<style scoped>\n",
       "    .dataframe tbody tr th:only-of-type {\n",
       "        vertical-align: middle;\n",
       "    }\n",
       "\n",
       "    .dataframe tbody tr th {\n",
       "        vertical-align: top;\n",
       "    }\n",
       "\n",
       "    .dataframe thead th {\n",
       "        text-align: right;\n",
       "    }\n",
       "</style>\n",
       "<table border=\"1\" class=\"dataframe\">\n",
       "  <thead>\n",
       "    <tr style=\"text-align: right;\">\n",
       "      <th>Ticker</th>\n",
       "      <th>AAPL</th>\n",
       "      <th>ABBV</th>\n",
       "      <th>ABT</th>\n",
       "      <th>ACN</th>\n",
       "      <th>ADBE</th>\n",
       "      <th>AMD</th>\n",
       "      <th>AMZN</th>\n",
       "      <th>AVGO</th>\n",
       "      <th>BAC</th>\n",
       "      <th>BRK-B</th>\n",
       "      <th>...</th>\n",
       "      <th>QCOM</th>\n",
       "      <th>TMO</th>\n",
       "      <th>TSLA</th>\n",
       "      <th>TXN</th>\n",
       "      <th>UNH</th>\n",
       "      <th>V</th>\n",
       "      <th>VZ</th>\n",
       "      <th>WFC</th>\n",
       "      <th>WMT</th>\n",
       "      <th>XOM</th>\n",
       "    </tr>\n",
       "    <tr>\n",
       "      <th>Date</th>\n",
       "      <th></th>\n",
       "      <th></th>\n",
       "      <th></th>\n",
       "      <th></th>\n",
       "      <th></th>\n",
       "      <th></th>\n",
       "      <th></th>\n",
       "      <th></th>\n",
       "      <th></th>\n",
       "      <th></th>\n",
       "      <th></th>\n",
       "      <th></th>\n",
       "      <th></th>\n",
       "      <th></th>\n",
       "      <th></th>\n",
       "      <th></th>\n",
       "      <th></th>\n",
       "      <th></th>\n",
       "      <th></th>\n",
       "      <th></th>\n",
       "      <th></th>\n",
       "    </tr>\n",
       "  </thead>\n",
       "  <tbody>\n",
       "    <tr>\n",
       "      <th>2015-01-02</th>\n",
       "      <td>24.261044</td>\n",
       "      <td>42.091415</td>\n",
       "      <td>36.418686</td>\n",
       "      <td>74.252617</td>\n",
       "      <td>72.339996</td>\n",
       "      <td>2.67</td>\n",
       "      <td>15.4260</td>\n",
       "      <td>7.574805</td>\n",
       "      <td>14.277452</td>\n",
       "      <td>149.169998</td>\n",
       "      <td>...</td>\n",
       "      <td>54.612598</td>\n",
       "      <td>124.014137</td>\n",
       "      <td>14.620667</td>\n",
       "      <td>39.911053</td>\n",
       "      <td>85.048477</td>\n",
       "      <td>61.462475</td>\n",
       "      <td>26.573202</td>\n",
       "      <td>40.370850</td>\n",
       "      <td>23.266567</td>\n",
       "      <td>58.423477</td>\n",
       "    </tr>\n",
       "    <tr>\n",
       "      <th>2015-01-05</th>\n",
       "      <td>23.577578</td>\n",
       "      <td>41.299297</td>\n",
       "      <td>36.426781</td>\n",
       "      <td>72.998924</td>\n",
       "      <td>71.980003</td>\n",
       "      <td>2.66</td>\n",
       "      <td>15.1095</td>\n",
       "      <td>7.453718</td>\n",
       "      <td>13.862695</td>\n",
       "      <td>147.000000</td>\n",
       "      <td>...</td>\n",
       "      <td>54.355259</td>\n",
       "      <td>122.310562</td>\n",
       "      <td>14.006000</td>\n",
       "      <td>39.291626</td>\n",
       "      <td>83.647614</td>\n",
       "      <td>60.105785</td>\n",
       "      <td>26.352501</td>\n",
       "      <td>39.263802</td>\n",
       "      <td>23.198858</td>\n",
       "      <td>56.824932</td>\n",
       "    </tr>\n",
       "    <tr>\n",
       "      <th>2015-01-06</th>\n",
       "      <td>23.579788</td>\n",
       "      <td>41.094879</td>\n",
       "      <td>36.013111</td>\n",
       "      <td>72.472351</td>\n",
       "      <td>70.529999</td>\n",
       "      <td>2.63</td>\n",
       "      <td>14.7645</td>\n",
       "      <td>7.284195</td>\n",
       "      <td>13.447927</td>\n",
       "      <td>146.839996</td>\n",
       "      <td>...</td>\n",
       "      <td>53.583282</td>\n",
       "      <td>121.168358</td>\n",
       "      <td>14.085333</td>\n",
       "      <td>38.642368</td>\n",
       "      <td>83.478836</td>\n",
       "      <td>59.718479</td>\n",
       "      <td>26.618467</td>\n",
       "      <td>38.444561</td>\n",
       "      <td>23.377617</td>\n",
       "      <td>56.522808</td>\n",
       "    </tr>\n",
       "    <tr>\n",
       "      <th>2015-01-07</th>\n",
       "      <td>23.910439</td>\n",
       "      <td>42.755787</td>\n",
       "      <td>36.305115</td>\n",
       "      <td>73.993523</td>\n",
       "      <td>71.110001</td>\n",
       "      <td>2.58</td>\n",
       "      <td>14.9210</td>\n",
       "      <td>7.480961</td>\n",
       "      <td>13.511738</td>\n",
       "      <td>148.880005</td>\n",
       "      <td>...</td>\n",
       "      <td>54.208229</td>\n",
       "      <td>124.798195</td>\n",
       "      <td>14.063333</td>\n",
       "      <td>39.336418</td>\n",
       "      <td>84.331184</td>\n",
       "      <td>60.518570</td>\n",
       "      <td>26.446692</td>\n",
       "      <td>38.673367</td>\n",
       "      <td>23.997887</td>\n",
       "      <td>57.095547</td>\n",
       "    </tr>\n",
       "    <tr>\n",
       "      <th>2015-01-08</th>\n",
       "      <td>24.829128</td>\n",
       "      <td>43.202961</td>\n",
       "      <td>37.051334</td>\n",
       "      <td>75.121857</td>\n",
       "      <td>72.919998</td>\n",
       "      <td>2.61</td>\n",
       "      <td>15.0230</td>\n",
       "      <td>7.854820</td>\n",
       "      <td>13.790905</td>\n",
       "      <td>151.369995</td>\n",
       "      <td>...</td>\n",
       "      <td>54.781696</td>\n",
       "      <td>126.095230</td>\n",
       "      <td>14.041333</td>\n",
       "      <td>39.978210</td>\n",
       "      <td>88.356575</td>\n",
       "      <td>61.330276</td>\n",
       "      <td>27.013533</td>\n",
       "      <td>39.529507</td>\n",
       "      <td>24.504374</td>\n",
       "      <td>58.045856</td>\n",
       "    </tr>\n",
       "  </tbody>\n",
       "</table>\n",
       "<p>5 rows × 50 columns</p>\n",
       "</div>"
      ],
      "text/plain": [
       "Ticker           AAPL       ABBV        ABT        ACN       ADBE   AMD  \\\n",
       "Date                                                                      \n",
       "2015-01-02  24.261044  42.091415  36.418686  74.252617  72.339996  2.67   \n",
       "2015-01-05  23.577578  41.299297  36.426781  72.998924  71.980003  2.66   \n",
       "2015-01-06  23.579788  41.094879  36.013111  72.472351  70.529999  2.63   \n",
       "2015-01-07  23.910439  42.755787  36.305115  73.993523  71.110001  2.58   \n",
       "2015-01-08  24.829128  43.202961  37.051334  75.121857  72.919998  2.61   \n",
       "\n",
       "Ticker         AMZN      AVGO        BAC       BRK-B  ...       QCOM  \\\n",
       "Date                                                  ...              \n",
       "2015-01-02  15.4260  7.574805  14.277452  149.169998  ...  54.612598   \n",
       "2015-01-05  15.1095  7.453718  13.862695  147.000000  ...  54.355259   \n",
       "2015-01-06  14.7645  7.284195  13.447927  146.839996  ...  53.583282   \n",
       "2015-01-07  14.9210  7.480961  13.511738  148.880005  ...  54.208229   \n",
       "2015-01-08  15.0230  7.854820  13.790905  151.369995  ...  54.781696   \n",
       "\n",
       "Ticker             TMO       TSLA        TXN        UNH          V         VZ  \\\n",
       "Date                                                                            \n",
       "2015-01-02  124.014137  14.620667  39.911053  85.048477  61.462475  26.573202   \n",
       "2015-01-05  122.310562  14.006000  39.291626  83.647614  60.105785  26.352501   \n",
       "2015-01-06  121.168358  14.085333  38.642368  83.478836  59.718479  26.618467   \n",
       "2015-01-07  124.798195  14.063333  39.336418  84.331184  60.518570  26.446692   \n",
       "2015-01-08  126.095230  14.041333  39.978210  88.356575  61.330276  27.013533   \n",
       "\n",
       "Ticker            WFC        WMT        XOM  \n",
       "Date                                         \n",
       "2015-01-02  40.370850  23.266567  58.423477  \n",
       "2015-01-05  39.263802  23.198858  56.824932  \n",
       "2015-01-06  38.444561  23.377617  56.522808  \n",
       "2015-01-07  38.673367  23.997887  57.095547  \n",
       "2015-01-08  39.529507  24.504374  58.045856  \n",
       "\n",
       "[5 rows x 50 columns]"
      ]
     },
     "execution_count": 9,
     "metadata": {},
     "output_type": "execute_result"
    }
   ],
   "source": [
    "price_data = price_data_range.pivot(index='Date', columns='Ticker', values='Adj Close')\n",
    "price_data.head()"
   ]
  },
  {
   "cell_type": "code",
   "execution_count": 11,
   "id": "b7db592a",
   "metadata": {},
   "outputs": [
    {
     "data": {
      "text/plain": [
       "<Axes: xlabel='Ticker', ylabel='Ticker'>"
      ]
     },
     "execution_count": 11,
     "metadata": {},
     "output_type": "execute_result"
    },
    {
     "data": {
      "image/png": "[encoded data removed]",
      "text/plain": [
       "<Figure size 640x480 with 2 Axes>"
      ]
     },
     "metadata": {},
     "output_type": "display_data"
    }
   ],
   "source": [
    "corr = price_data.corr(method='kendall')\n",
    "sns.heatmap(corr, annot=False, cmap='coolwarm', center=0)"
   ]
  },
  {
   "cell_type": "code",
   "execution_count": 6,
   "id": "05f791ff",
   "metadata": {},
   "outputs": [],
   "source": [
    "def plot_prices_tau(Y_A, Y_B, tau_estimate, t=None):\n",
    "    S = len(Y_A)\n",
    "    if t is None:\n",
    "        t = np.arange(1, S+1)\n",
    "    for time_point in [10, 50, 90]:\n",
    "        print(f\"Tau estimate at t={time_point} is {tau_estimate[time_point]}\")\n",
    "\n",
    "    fig, (ax1, ax2) = plt.subplots(1, 2, figsize=(12, 5))\n",
    "    ax1.plot(t, Y_A, label='Y_A')\n",
    "    ax1.plot(t, Y_B, label='Y_B')\n",
    "    ax1.set_xlabel('t')\n",
    "    ax1.set_ylabel('Value')\n",
    "    ax1.grid(True, alpha=0.3)\n",
    "    ax1.set_title('Time Series Y_A and Y_B')\n",
    "    ax1.legend()\n",
    "\n",
    "    ax2.plot(t, tau_estimate)\n",
    "    ax2.set_xlabel('t')\n",
    "    ax2.set_ylabel(r'$\\tau$')\n",
    "    ax2.set_title(\"Time-Varying Kendall's Tau\")\n",
    "    ax2.grid(True, alpha=0.3)"
   ]
  },
  {
   "cell_type": "code",
   "execution_count": 78,
   "id": "6d47742b",
   "metadata": {},
   "outputs": [],
   "source": [
    "Y_A = price_data['AAPL'].to_numpy()\n",
    "Y_B = price_data['ABBV'].to_numpy()\n",
    "date = price_data.index.to_list()"
   ]
  },
  {
   "cell_type": "code",
   "execution_count": 79,
   "id": "646e9efe",
   "metadata": {},
   "outputs": [],
   "source": [
    "tau_estimate = kendall_tau_estimator(Y_A, Y_B, h=0.1)"
   ]
  },
  {
   "cell_type": "code",
   "execution_count": 80,
   "id": "3561926d",
   "metadata": {},
   "outputs": [
    {
     "name": "stdout",
     "output_type": "stream",
     "text": [
      "Tau estimate at t=10 is -0.25032342189603185\n",
      "Tau estimate at t=50 is 0.3837656694099194\n",
      "Tau estimate at t=90 is 0.36665045825991305\n"
     ]
    },
    {
     "data": {
      "image/png": "[encoded data removed]",
      "text/plain": [
       "<Figure size 1200x500 with 2 Axes>"
      ]
     },
     "metadata": {},
     "output_type": "display_data"
    }
   ],
   "source": [
    "plot_prices_tau(Y_A, Y_B, tau_estimate, t=date)"
   ]
  },
  {
   "cell_type": "markdown",
   "id": "95a54a2c",
   "metadata": {},
   "source": [
    "Select the date range"
   ]
  },
  {
   "cell_type": "code",
   "execution_count": 30,
   "id": "34edf63f",
   "metadata": {},
   "outputs": [
    {
     "data": {
      "text/plain": [
       "251"
      ]
     },
     "execution_count": 30,
     "metadata": {},
     "output_type": "execute_result"
    }
   ],
   "source": [
    "start_date = pd.to_datetime('2022-01-01')\n",
    "end_date = pd.to_datetime('2022-12-31')\n",
    "\n",
    "# Filter for a date range\n",
    "price_data_range = tickers_df[\n",
    "    (tickers_df['Date'] >= start_date) & \n",
    "    (tickers_df['Date'] <= end_date)\n",
    "]\n",
    "price_data = price_data_range.pivot(index='Date', columns='Ticker', values='Adj Close')\n",
    "len(price_data)"
   ]
  },
  {
   "cell_type": "markdown",
   "id": "8eb09baa",
   "metadata": {},
   "source": [
    "Select the tickers"
   ]
  },
  {
   "cell_type": "code",
   "execution_count": 79,
   "id": "088d395e",
   "metadata": {},
   "outputs": [],
   "source": [
    "ticker_name = list(price_data.columns) "
   ]
  },
  {
   "cell_type": "code",
   "execution_count": 80,
   "id": "1a0220ae",
   "metadata": {},
   "outputs": [],
   "source": [
    "## kendall tau matrix\n",
    "# list(enumerate(ticker_name,11))\n",
    "# ticker_name = ticker_name[0:5]\n",
    "# print(ticker_name)"
   ]
  },
  {
   "cell_type": "code",
   "execution_count": 81,
   "id": "bae56f4a",
   "metadata": {},
   "outputs": [],
   "source": [
    "tau_stocks = []\n",
    "for i in range(len(ticker_name)):\n",
    "    tickerA = ticker_name[i]\n",
    "    YA = price_data[tickerA].to_numpy()\n",
    "    for j in range(i, len(ticker_name)):\n",
    "        tickerB = ticker_name[j]\n",
    "        YB = price_data[tickerB].to_numpy()\n",
    "        tau_AB = kendall_tau_estimator(YA, YB, h=0.1)\n",
    "        # print(i,j, tickerA, tickerB)\n",
    "        tau_stocks.append(tau_AB)"
   ]
  },
  {
   "cell_type": "code",
   "execution_count": 83,
   "id": "4534d88d",
   "metadata": {},
   "outputs": [
    {
     "data": {
      "text/plain": [
       "list"
      ]
     },
     "execution_count": 83,
     "metadata": {},
     "output_type": "execute_result"
    }
   ],
   "source": [
    "type(tau_stocks[0])"
   ]
  },
  {
   "cell_type": "code",
   "execution_count": 86,
   "id": "39bbc385",
   "metadata": {},
   "outputs": [
    {
     "data": {
      "text/plain": [
       "'c:\\\\Users\\\\Admin\\\\PhD Projects\\\\balance_continuous'"
      ]
     },
     "execution_count": 86,
     "metadata": {},
     "output_type": "execute_result"
    }
   ],
   "source": [
    "%pwd"
   ]
  },
  {
   "cell_type": "code",
   "execution_count": 85,
   "id": "10bb7df3",
   "metadata": {},
   "outputs": [],
   "source": [
    "import pickle\n",
    "with open('tau_stocks','wb') as f:\n",
    "    pickle.dump(tau_stocks, f)"
   ]
  },
  {
   "cell_type": "code",
   "execution_count": 87,
   "id": "d8b67390",
   "metadata": {},
   "outputs": [
    {
     "data": {
      "text/plain": [
       "[<matplotlib.lines.Line2D at 0x177d7757390>]"
      ]
     },
     "execution_count": 87,
     "metadata": {},
     "output_type": "execute_result"
    },
    {
     "data": {
      "image/png": "[encoded data removed]",
      "text/plain": [
       "<Figure size 640x480 with 1 Axes>"
      ]
     },
     "metadata": {},
     "output_type": "display_data"
    }
   ],
   "source": [
    "plt.plot(tau_stocks[1])"
   ]
  },
  {
   "cell_type": "markdown",
   "id": "dfe1afc5",
   "metadata": {},
   "source": [
    "#### Convert to Correlation matrix"
   ]
  },
  {
   "cell_type": "code",
   "execution_count": 63,
   "id": "055b0ab8",
   "metadata": {},
   "outputs": [
    {
     "data": {
      "text/plain": [
       "(15, 251)"
      ]
     },
     "execution_count": 63,
     "metadata": {},
     "output_type": "execute_result"
    }
   ],
   "source": [
    "x= np.array(tau_stocks)\n",
    "x.shape"
   ]
  },
  {
   "cell_type": "code",
   "execution_count": 51,
   "id": "eef24bc9",
   "metadata": {},
   "outputs": [
    {
     "data": {
      "text/plain": [
       "4"
      ]
     },
     "execution_count": 51,
     "metadata": {},
     "output_type": "execute_result"
    }
   ],
   "source": [
    "x  = [[1,2,1,0], [9,3,1,2], [1,2,3,0], [4,2,1,0],[3,2,5,1], [2,3,1,7]]\n",
    "len(x[0])"
   ]
  },
  {
   "cell_type": "code",
   "execution_count": 88,
   "id": "b028380e",
   "metadata": {},
   "outputs": [],
   "source": [
    "def find_matrix_size(tickers):\n",
    "    m = len(tickers)\n",
    "    n = (-1 + np.sqrt(1+8*m))/2\n",
    "    return int(n)"
   ]
  },
  {
   "cell_type": "code",
   "execution_count": 53,
   "id": "6c03c259",
   "metadata": {},
   "outputs": [],
   "source": [
    "n = find_matrix_size(x)\n",
    "T = len(x[0])\n",
    "upp_tri_matrix = np.zeros((T,n,n))\n",
    "sym_matrix = []\n",
    "for t in range(T):\n",
    "    idx=0\n",
    "    for i in range(n):\n",
    "        for j in range(i, n):\n",
    "            upp_tri_matrix[t,i, j]= x[idx][t]\n",
    "            idx+=1\n",
    "    sym_matrix_t = np.triu(upp_tri_matrix[t], k=1) + upp_tri_matrix[t].T\n",
    "    sym_matrix.append(sym_matrix_t)"
   ]
  },
  {
   "cell_type": "code",
   "execution_count": 89,
   "id": "c314bd5a",
   "metadata": {},
   "outputs": [
    {
     "data": {
      "text/plain": [
       "50"
      ]
     },
     "execution_count": 89,
     "metadata": {},
     "output_type": "execute_result"
    }
   ],
   "source": [
    "find_matrix_size(tau_stocks)"
   ]
  },
  {
   "cell_type": "markdown",
   "id": "b8fb829d",
   "metadata": {},
   "source": [
    "Find the correlation matrix"
   ]
  },
  {
   "cell_type": "code",
   "execution_count": 90,
   "id": "a1be9ecd",
   "metadata": {},
   "outputs": [],
   "source": [
    "def correlation_matrix(tau_stocks):\n",
    "    n = find_matrix_size(tau_stocks)\n",
    "    # n = len(tau_stocks)\n",
    "    print(n)\n",
    "    T = len(tau_stocks[0])\n",
    "    upp_tri_matrix = np.zeros((T,n,n))\n",
    "    corr_matrices = []\n",
    "    for t in range(T):\n",
    "        idx=0\n",
    "        for i in range(n):\n",
    "            for j in range(i, n):\n",
    "                upp_tri_matrix[t,i, j]= tau_stocks[idx][t]\n",
    "                idx+=1\n",
    "        corr_matrix = np.triu(upp_tri_matrix[t], k=1) + upp_tri_matrix[t].T\n",
    "        corr_matrices.append(corr_matrix)\n",
    "    return corr_matrices"
   ]
  },
  {
   "cell_type": "code",
   "execution_count": 91,
   "id": "70e2537d",
   "metadata": {},
   "outputs": [
    {
     "name": "stdout",
     "output_type": "stream",
     "text": [
      "50\n"
     ]
    }
   ],
   "source": [
    "corr_matrices = correlation_matrix(tau_stocks)"
   ]
  },
  {
   "cell_type": "code",
   "execution_count": 94,
   "id": "54b0c391",
   "metadata": {},
   "outputs": [
    {
     "data": {
      "text/plain": [
       "array([[ 0.99536027,  0.27918263,  0.44185353, ...,  0.58010742,\n",
       "         0.68676579, -0.08491441],\n",
       "       [ 0.27918263,  0.99630528,  0.03078701, ...,  0.09523147,\n",
       "         0.37574516, -0.35162219],\n",
       "       [ 0.44185353,  0.03078701,  0.9992567 , ...,  0.69091573,\n",
       "         0.26037382,  0.33444119],\n",
       "       ...,\n",
       "       [ 0.58010742,  0.09523147,  0.69091573, ...,  0.99724739,\n",
       "         0.40477015,  0.2012715 ],\n",
       "       [ 0.68676579,  0.37574516,  0.26037382, ...,  0.40477015,\n",
       "         0.9958878 , -0.26700157],\n",
       "       [-0.08491441, -0.35162219,  0.33444119, ...,  0.2012715 ,\n",
       "        -0.26700157,  0.9992567 ]], shape=(50, 50))"
      ]
     },
     "execution_count": 94,
     "metadata": {},
     "output_type": "execute_result"
    }
   ],
   "source": [
    "corr_matrices[100]"
   ]
  },
  {
   "cell_type": "markdown",
   "id": "ee5601fb",
   "metadata": {},
   "source": [
    "### Signed Adjacency matrix"
   ]
  },
  {
   "cell_type": "code",
   "execution_count": 95,
   "id": "2d3e56ab",
   "metadata": {},
   "outputs": [],
   "source": [
    "def LinkPol(Adj):\n",
    "    \"\"\"\n",
    "    Parameters\n",
    "    ----------\n",
    "    Adj : signed adjacency matrix.\n",
    "\n",
    "    Returns\n",
    "    -------\n",
    "    pol : Mean link polarization.\n",
    "    \"\"\"\n",
    "    pol = 0.5*(sum(sum(Adj)))\n",
    "    return pol"
   ]
  },
  {
   "cell_type": "code",
   "execution_count": 99,
   "id": "7a39900b",
   "metadata": {},
   "outputs": [],
   "source": [
    "num_edges = comb(50,2)"
   ]
  },
  {
   "cell_type": "code",
   "execution_count": 101,
   "id": "726cf87e",
   "metadata": {},
   "outputs": [
    {
     "data": {
      "text/plain": [
       "np.float64(0.4046890670099751)"
      ]
     },
     "execution_count": 101,
     "metadata": {},
     "output_type": "execute_result"
    }
   ],
   "source": [
    "LinkPol(corr_matrices[150])/num_edges"
   ]
  },
  {
   "cell_type": "code",
   "execution_count": null,
   "id": "f75268b0",
   "metadata": {},
   "outputs": [],
   "source": [
    "# create adjacency matrix from kendall tau\n",
    "def indicator(func):\n",
    "    def _f(x, epsilon):\n",
    "        return func(x)  if np.abs(x) >= epsilon else 0\n",
    "    return _f"
   ]
  },
  {
   "cell_type": "code",
   "execution_count": 29,
   "id": "a76473ab",
   "metadata": {},
   "outputs": [],
   "source": [
    "def do_twice(func):\n",
    "    def wrapper_do_twice(*args, **kwargs):\n",
    "        func(*args, **kwargs)\n",
    "        return func(*args, **kwargs)\n",
    "    return wrapper_do_twice"
   ]
  },
  {
   "cell_type": "code",
   "execution_count": 21,
   "id": "8d836807",
   "metadata": {},
   "outputs": [],
   "source": [
    "@do_twice\n",
    "def say_whee():\n",
    "    print(\"whee\")"
   ]
  },
  {
   "cell_type": "code",
   "execution_count": 22,
   "id": "0edc06ba",
   "metadata": {},
   "outputs": [
    {
     "name": "stdout",
     "output_type": "stream",
     "text": [
      "whee\n",
      "whee\n"
     ]
    }
   ],
   "source": [
    "say_whee()"
   ]
  },
  {
   "cell_type": "code",
   "execution_count": 24,
   "id": "435740d1",
   "metadata": {},
   "outputs": [
    {
     "name": "stdout",
     "output_type": "stream",
     "text": [
      "Hello World\n",
      "Hello World\n"
     ]
    }
   ],
   "source": [
    "@do_twice\n",
    "def greet(name):\n",
    "    print(f\"Hello {name}\")\n",
    "\n",
    "greet('World')"
   ]
  },
  {
   "cell_type": "code",
   "execution_count": 30,
   "id": "bf4b78ca",
   "metadata": {},
   "outputs": [
    {
     "name": "stdout",
     "output_type": "stream",
     "text": [
      "Creating greeting\n",
      "Creating greeting\n",
      "Hi Adam\n"
     ]
    }
   ],
   "source": [
    "@do_twice\n",
    "def return_greeting(name):\n",
    "    print(\"Creating greeting\")\n",
    "    return f\"Hi {name}\"\n",
    "\n",
    "hi_adam =return_greeting(\"Adam\")\n",
    "print(hi_adam)"
   ]
  }
 ],
 "metadata": {
  "kernelspec": {
   "display_name": "balance-continuous (3.13.6)",
   "language": "python",
   "name": "python3"
  },
  "language_info": {
   "codemirror_mode": {
    "name": "ipython",
    "version": 3
   },
   "file_extension": ".py",
   "mimetype": "text/x-python",
   "name": "python",
   "nbconvert_exporter": "python",
   "pygments_lexer": "ipython3",
   "version": "3.13.6"
  }
 },
 "nbformat": 4,
 "nbformat_minor": 5
}
