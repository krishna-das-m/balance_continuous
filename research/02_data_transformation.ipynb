{
 "cells": [
  {
   "cell_type": "code",
   "execution_count": 37,
   "id": "77e9b2ea",
   "metadata": {},
   "outputs": [],
   "source": [
    "import numpy as np\n",
    "import pandas as pd\n",
    "import os\n",
    "\n",
    "import seaborn as sns\n",
    "import matplotlib.pyplot as plt"
   ]
  },
  {
   "cell_type": "code",
   "execution_count": 2,
   "id": "3f0f3363",
   "metadata": {},
   "outputs": [
    {
     "data": {
      "text/plain": [
       "'c:\\\\Users\\\\Admin\\\\PhD Projects\\\\balance_continuous\\\\research'"
      ]
     },
     "execution_count": 2,
     "metadata": {},
     "output_type": "execute_result"
    }
   ],
   "source": [
    "%pwd"
   ]
  },
  {
   "cell_type": "code",
   "execution_count": 3,
   "id": "20e15b67",
   "metadata": {},
   "outputs": [
    {
     "data": {
      "text/plain": [
       "'c:\\\\Users\\\\Admin\\\\PhD Projects\\\\balance_continuous'"
      ]
     },
     "execution_count": 3,
     "metadata": {},
     "output_type": "execute_result"
    }
   ],
   "source": [
    "os.chdir(\"../\")\n",
    "%pwd"
   ]
  },
  {
   "cell_type": "code",
   "execution_count": 4,
   "id": "69a920dd",
   "metadata": {},
   "outputs": [
    {
     "data": {
      "application/vnd.microsoft.datawrangler.viewer.v0+json": {
       "columns": [
        {
         "name": "index",
         "rawType": "int64",
         "type": "integer"
        },
        {
         "name": "Adj Close",
         "rawType": "float64",
         "type": "float"
        },
        {
         "name": "Close",
         "rawType": "float64",
         "type": "float"
        },
        {
         "name": "High",
         "rawType": "float64",
         "type": "float"
        },
        {
         "name": "Low",
         "rawType": "float64",
         "type": "float"
        },
        {
         "name": "Open",
         "rawType": "float64",
         "type": "float"
        },
        {
         "name": "Volume",
         "rawType": "int64",
         "type": "integer"
        },
        {
         "name": "Ticker",
         "rawType": "object",
         "type": "string"
        },
        {
         "name": "Year",
         "rawType": "int64",
         "type": "integer"
        },
        {
         "name": "Month",
         "rawType": "int64",
         "type": "integer"
        },
        {
         "name": "Weekday",
         "rawType": "int64",
         "type": "integer"
        },
        {
         "name": "Date",
         "rawType": "datetime64[ns]",
         "type": "datetime"
        }
       ],
       "ref": "d664be52-e5dc-4284-b5cf-965180b55097",
       "rows": [
        [
         "0",
         "0.8400940299034119",
         "0.9994419813156128",
         "1.004464030265808",
         "0.9079239964485168",
         "0.9363840222358704",
         "535796800",
         "AAPL",
         "2000",
         "1",
         "0",
         "2000-01-03 00:00:00"
        ],
        [
         "1",
         "0.7692659497261047",
         "0.9151790142059326",
         "0.9877229928970337",
         "0.9034600257873535",
         "0.966517984867096",
         "512377600",
         "AAPL",
         "2000",
         "1",
         "1",
         "2000-01-04 00:00:00"
        ],
        [
         "2",
         "0.7805225849151611",
         "0.9285709857940674",
         "0.9871649742126465",
         "0.919642984867096",
         "0.9263389706611633",
         "778321600",
         "AAPL",
         "2000",
         "1",
         "2",
         "2000-01-05 00:00:00"
        ],
        [
         "3",
         "0.7129774689674377",
         "0.8482139706611633",
         "0.955357015132904",
         "0.8482139706611633",
         "0.9475449919700623",
         "767972800",
         "AAPL",
         "2000",
         "1",
         "3",
         "2000-01-06 00:00:00"
        ],
        [
         "4",
         "0.7467507719993591",
         "0.888392984867096",
         "0.9017860293388367",
         "0.8526790142059326",
         "0.861607015132904",
         "460734400",
         "AAPL",
         "2000",
         "1",
         "4",
         "2000-01-07 00:00:00"
        ]
       ],
       "shape": {
        "columns": 11,
        "rows": 5
       }
      },
      "text/html": [
       "<div>\n",
       "<style scoped>\n",
       "    .dataframe tbody tr th:only-of-type {\n",
       "        vertical-align: middle;\n",
       "    }\n",
       "\n",
       "    .dataframe tbody tr th {\n",
       "        vertical-align: top;\n",
       "    }\n",
       "\n",
       "    .dataframe thead th {\n",
       "        text-align: right;\n",
       "    }\n",
       "</style>\n",
       "<table border=\"1\" class=\"dataframe\">\n",
       "  <thead>\n",
       "    <tr style=\"text-align: right;\">\n",
       "      <th>Price</th>\n",
       "      <th>Adj Close</th>\n",
       "      <th>Close</th>\n",
       "      <th>High</th>\n",
       "      <th>Low</th>\n",
       "      <th>Open</th>\n",
       "      <th>Volume</th>\n",
       "      <th>Ticker</th>\n",
       "      <th>Year</th>\n",
       "      <th>Month</th>\n",
       "      <th>Weekday</th>\n",
       "      <th>Date</th>\n",
       "    </tr>\n",
       "  </thead>\n",
       "  <tbody>\n",
       "    <tr>\n",
       "      <th>0</th>\n",
       "      <td>0.840094</td>\n",
       "      <td>0.999442</td>\n",
       "      <td>1.004464</td>\n",
       "      <td>0.907924</td>\n",
       "      <td>0.936384</td>\n",
       "      <td>535796800</td>\n",
       "      <td>AAPL</td>\n",
       "      <td>2000</td>\n",
       "      <td>1</td>\n",
       "      <td>0</td>\n",
       "      <td>2000-01-03</td>\n",
       "    </tr>\n",
       "    <tr>\n",
       "      <th>1</th>\n",
       "      <td>0.769266</td>\n",
       "      <td>0.915179</td>\n",
       "      <td>0.987723</td>\n",
       "      <td>0.903460</td>\n",
       "      <td>0.966518</td>\n",
       "      <td>512377600</td>\n",
       "      <td>AAPL</td>\n",
       "      <td>2000</td>\n",
       "      <td>1</td>\n",
       "      <td>1</td>\n",
       "      <td>2000-01-04</td>\n",
       "    </tr>\n",
       "    <tr>\n",
       "      <th>2</th>\n",
       "      <td>0.780523</td>\n",
       "      <td>0.928571</td>\n",
       "      <td>0.987165</td>\n",
       "      <td>0.919643</td>\n",
       "      <td>0.926339</td>\n",
       "      <td>778321600</td>\n",
       "      <td>AAPL</td>\n",
       "      <td>2000</td>\n",
       "      <td>1</td>\n",
       "      <td>2</td>\n",
       "      <td>2000-01-05</td>\n",
       "    </tr>\n",
       "    <tr>\n",
       "      <th>3</th>\n",
       "      <td>0.712977</td>\n",
       "      <td>0.848214</td>\n",
       "      <td>0.955357</td>\n",
       "      <td>0.848214</td>\n",
       "      <td>0.947545</td>\n",
       "      <td>767972800</td>\n",
       "      <td>AAPL</td>\n",
       "      <td>2000</td>\n",
       "      <td>1</td>\n",
       "      <td>3</td>\n",
       "      <td>2000-01-06</td>\n",
       "    </tr>\n",
       "    <tr>\n",
       "      <th>4</th>\n",
       "      <td>0.746751</td>\n",
       "      <td>0.888393</td>\n",
       "      <td>0.901786</td>\n",
       "      <td>0.852679</td>\n",
       "      <td>0.861607</td>\n",
       "      <td>460734400</td>\n",
       "      <td>AAPL</td>\n",
       "      <td>2000</td>\n",
       "      <td>1</td>\n",
       "      <td>4</td>\n",
       "      <td>2000-01-07</td>\n",
       "    </tr>\n",
       "  </tbody>\n",
       "</table>\n",
       "</div>"
      ],
      "text/plain": [
       "Price  Adj Close     Close      High       Low      Open     Volume Ticker  \\\n",
       "0       0.840094  0.999442  1.004464  0.907924  0.936384  535796800   AAPL   \n",
       "1       0.769266  0.915179  0.987723  0.903460  0.966518  512377600   AAPL   \n",
       "2       0.780523  0.928571  0.987165  0.919643  0.926339  778321600   AAPL   \n",
       "3       0.712977  0.848214  0.955357  0.848214  0.947545  767972800   AAPL   \n",
       "4       0.746751  0.888393  0.901786  0.852679  0.861607  460734400   AAPL   \n",
       "\n",
       "Price  Year  Month  Weekday       Date  \n",
       "0      2000      1        0 2000-01-03  \n",
       "1      2000      1        1 2000-01-04  \n",
       "2      2000      1        2 2000-01-05  \n",
       "3      2000      1        3 2000-01-06  \n",
       "4      2000      1        4 2000-01-07  "
      ]
     },
     "execution_count": 4,
     "metadata": {},
     "output_type": "execute_result"
    }
   ],
   "source": [
    "# load data\n",
    "tickers_df = pd.read_parquet('artifacts/data_ingestion/tickers_df.parquet')\n",
    "tickers_df.head()"
   ]
  },
  {
   "cell_type": "code",
   "execution_count": 31,
   "id": "47842889",
   "metadata": {},
   "outputs": [],
   "source": [
    "start_date = pd.to_datetime('2021-01-01')\n",
    "end_date = pd.to_datetime('2021-12-31')\n",
    "\n",
    "# Filter for a date range\n",
    "price_data_range = tickers_df[\n",
    "    (tickers_df['Date'] >= start_date) & \n",
    "    (tickers_df['Date'] <= end_date)\n",
    "]\n",
    "# ticker_given_date = tickers_df[tickers_df['Date']==choose_date]\n",
    "\n",
    "# ticker_given_date = ticker_given_date[['Date','Adj Close', 'Ticker']].reset_index(drop=True)\n",
    "# ticker_given_date.head()"
   ]
  },
  {
   "cell_type": "code",
   "execution_count": 32,
   "id": "42de6f5b",
   "metadata": {},
   "outputs": [
    {
     "data": {
      "application/vnd.microsoft.datawrangler.viewer.v0+json": {
       "columns": [
        {
         "name": "Date",
         "rawType": "datetime64[ns]",
         "type": "datetime"
        },
        {
         "name": "AAPL",
         "rawType": "float64",
         "type": "float"
        },
        {
         "name": "ABBV",
         "rawType": "float64",
         "type": "float"
        },
        {
         "name": "ABT",
         "rawType": "float64",
         "type": "float"
        },
        {
         "name": "ACN",
         "rawType": "float64",
         "type": "float"
        },
        {
         "name": "ADBE",
         "rawType": "float64",
         "type": "float"
        },
        {
         "name": "AMD",
         "rawType": "float64",
         "type": "float"
        },
        {
         "name": "AMZN",
         "rawType": "float64",
         "type": "float"
        },
        {
         "name": "AVGO",
         "rawType": "float64",
         "type": "float"
        },
        {
         "name": "BAC",
         "rawType": "float64",
         "type": "float"
        },
        {
         "name": "BRK-B",
         "rawType": "float64",
         "type": "float"
        },
        {
         "name": "CAT",
         "rawType": "float64",
         "type": "float"
        },
        {
         "name": "COST",
         "rawType": "float64",
         "type": "float"
        },
        {
         "name": "CRM",
         "rawType": "float64",
         "type": "float"
        },
        {
         "name": "CSCO",
         "rawType": "float64",
         "type": "float"
        },
        {
         "name": "CVX",
         "rawType": "float64",
         "type": "float"
        },
        {
         "name": "DHR",
         "rawType": "float64",
         "type": "float"
        },
        {
         "name": "DIS",
         "rawType": "float64",
         "type": "float"
        },
        {
         "name": "GE",
         "rawType": "float64",
         "type": "float"
        },
        {
         "name": "GOOGL",
         "rawType": "float64",
         "type": "float"
        },
        {
         "name": "HD",
         "rawType": "float64",
         "type": "float"
        },
        {
         "name": "IBM",
         "rawType": "float64",
         "type": "float"
        },
        {
         "name": "INTU",
         "rawType": "float64",
         "type": "float"
        },
        {
         "name": "JNJ",
         "rawType": "float64",
         "type": "float"
        },
        {
         "name": "JPM",
         "rawType": "float64",
         "type": "float"
        },
        {
         "name": "KO",
         "rawType": "float64",
         "type": "float"
        },
        {
         "name": "LIN",
         "rawType": "float64",
         "type": "float"
        },
        {
         "name": "LLY",
         "rawType": "float64",
         "type": "float"
        },
        {
         "name": "MA",
         "rawType": "float64",
         "type": "float"
        },
        {
         "name": "MCD",
         "rawType": "float64",
         "type": "float"
        },
        {
         "name": "META",
         "rawType": "float64",
         "type": "float"
        },
        {
         "name": "MRK",
         "rawType": "float64",
         "type": "float"
        },
        {
         "name": "MSFT",
         "rawType": "float64",
         "type": "float"
        },
        {
         "name": "NEE",
         "rawType": "float64",
         "type": "float"
        },
        {
         "name": "NFLX",
         "rawType": "float64",
         "type": "float"
        },
        {
         "name": "NOW",
         "rawType": "float64",
         "type": "float"
        },
        {
         "name": "NVDA",
         "rawType": "float64",
         "type": "float"
        },
        {
         "name": "ORCL",
         "rawType": "float64",
         "type": "float"
        },
        {
         "name": "PEP",
         "rawType": "float64",
         "type": "float"
        },
        {
         "name": "PG",
         "rawType": "float64",
         "type": "float"
        },
        {
         "name": "PM",
         "rawType": "float64",
         "type": "float"
        },
        {
         "name": "QCOM",
         "rawType": "float64",
         "type": "float"
        },
        {
         "name": "TMO",
         "rawType": "float64",
         "type": "float"
        },
        {
         "name": "TSLA",
         "rawType": "float64",
         "type": "float"
        },
        {
         "name": "TXN",
         "rawType": "float64",
         "type": "float"
        },
        {
         "name": "UNH",
         "rawType": "float64",
         "type": "float"
        },
        {
         "name": "V",
         "rawType": "float64",
         "type": "float"
        },
        {
         "name": "VZ",
         "rawType": "float64",
         "type": "float"
        },
        {
         "name": "WFC",
         "rawType": "float64",
         "type": "float"
        },
        {
         "name": "WMT",
         "rawType": "float64",
         "type": "float"
        },
        {
         "name": "XOM",
         "rawType": "float64",
         "type": "float"
        }
       ],
       "ref": "87710f44-280c-4339-a966-25f633772180",
       "rows": [
        [
         "2021-01-04 00:00:00",
         "126.09657287597656",
         "86.73971557617188",
         "99.68731689453125",
         "238.71038818359375",
         "485.3399963378906",
         "92.30000305175781",
         "159.3314971923828",
         "38.3262939453125",
         "26.751953125",
         "228.4499969482422",
         "165.62997436523438",
         "360.1973876953125",
         "218.0166473388672",
         "38.23933410644531",
         "69.25762939453125",
         "193.87037658691406",
         "174.76649475097656",
         "51.07004165649414",
         "85.71531677246094",
         "235.16783142089844",
         "96.86687469482422",
         "360.2210998535156",
         "136.6397247314453",
         "110.54832458496094",
         "45.71078109741211",
         "242.4297332763672",
         "157.2866668701172",
         "341.6771240234375",
         "188.66287231445312",
         "267.292236328125",
         "66.47604370117188",
         "209.27316284179688",
         "65.75405883789062",
         "522.8599853515625",
         "526.8300170898438",
         "13.077454566955566",
         "59.4625358581543",
         "124.86226654052734",
         "122.46395874023438",
         "64.57054138183594",
         "134.0189208984375",
         "466.01507568359375",
         "243.2566680908203",
         "141.9910125732422",
         "324.3132019042969",
         "210.4210968017578",
         "43.615047454833984",
         "26.60881996154785",
         "45.7275390625",
         "34.21503829956055"
        ],
        [
         "2021-01-05 00:00:00",
         "127.65559387207031",
         "87.63665008544922",
         "100.92072296142578",
         "240.06939697265625",
         "485.69000244140625",
         "92.7699966430664",
         "160.92550659179688",
         "38.585880279541016",
         "26.956846237182617",
         "227.47000122070312",
         "166.98483276367188",
         "356.018798828125",
         "219.21405029296875",
         "38.25672912597656",
         "71.12989807128906",
         "198.68173217773438",
         "175.51405334472656",
         "52.53337097167969",
         "86.40653991699219",
         "237.06581115722656",
         "98.58629608154297",
         "357.47845458984375",
         "138.24620056152344",
         "111.14985656738281",
         "45.20828628540039",
         "246.23275756835938",
         "158.06594848632812",
         "337.72076416015625",
         "189.7936553955078",
         "269.309814453125",
         "66.59098815917969",
         "209.47503662109375",
         "66.24131774902344",
         "520.7999877929688",
         "531.969970703125",
         "13.367903709411621",
         "58.72565841674805",
         "125.23443603515625",
         "123.2458724975586",
         "65.27564239501953",
         "137.56570434570312",
         "471.8424072265625",
         "245.0366668701172",
         "143.03257751464844",
         "319.95196533203125",
         "207.28060913085938",
         "43.41494369506836",
         "27.352432250976562",
         "45.48412322998047",
         "35.86396408081055"
        ],
        [
         "2021-01-06 00:00:00",
         "123.3585205078125",
         "86.87958526611328",
         "100.7105941772461",
         "242.6941375732422",
         "466.30999755859375",
         "90.33000183105469",
         "156.91900634765625",
         "38.34793472290039",
         "28.640544891357422",
         "230.27000427246094",
         "176.27789306640625",
         "350.5990295410156",
         "213.89993286132812",
         "38.622074127197266",
         "73.41914367675781",
         "205.26473999023438",
         "176.18289184570312",
         "55.41123580932617",
         "85.55392456054688",
         "238.420166015625",
         "101.04825592041016",
         "349.8515319824219",
         "139.54714965820312",
         "116.36902618408203",
         "43.77006912231445",
         "254.31661987304688",
         "156.1652374267578",
         "337.8470764160156",
         "189.3628692626953",
         "261.69671630859375",
         "67.64201354980469",
         "204.04345703125",
         "69.48382568359375",
         "500.489990234375",
         "507.25",
         "12.579826354980469",
         "58.58521270751953",
         "123.70250701904297",
         "124.54322814941406",
         "65.36278533935547",
         "136.44659423828125",
         "479.2402648925781",
         "251.9933319091797",
         "143.74156188964844",
         "333.379150390625",
         "205.45431518554688",
         "43.94113540649414",
         "29.287620544433594",
         "45.768104553222656",
         "36.77911376953125"
        ],
        [
         "2021-01-07 00:00:00",
         "127.56793212890625",
         "87.80943298339844",
         "101.68816375732422",
         "244.9839324951172",
         "477.739990234375",
         "95.16000366210938",
         "158.10800170898438",
         "39.96401596069336",
         "29.273040771484375",
         "232.8800048828125",
         "176.61434936523438",
         "348.6092529296875",
         "215.7108917236328",
         "39.10919952392578",
         "73.76251983642578",
         "208.182861328125",
         "175.65174865722656",
         "54.97222900390625",
         "88.10930633544922",
         "237.25294494628906",
         "100.81378173828125",
         "357.245849609375",
         "140.01858520507812",
         "120.1904525756836",
         "43.284881591796875",
         "253.5859375",
         "157.60023498535156",
         "340.5236511230469",
         "190.24241638183594",
         "267.0934143066406",
         "68.98860931396484",
         "209.84994506835938",
         "70.24573516845703",
         "508.8900146484375",
         "511.4100036621094",
         "13.307320594787598",
         "59.053375244140625",
         "123.30439758300781",
         "123.37919616699219",
         "65.74309539794922",
         "140.51681518554688",
         "494.1741638183594",
         "272.0133361816406",
         "146.9976806640625",
         "338.72412109375",
         "206.60418701171875",
         "43.842254638671875",
         "29.95060920715332",
         "45.76498031616211",
         "37.06767272949219"
        ],
        [
         "2021-01-08 00:00:00",
         "128.6689910888672",
         "88.270263671875",
         "101.97142028808594",
         "245.87750244140625",
         "485.1000061035156",
         "94.58000183105469",
         "159.13499450683594",
         "40.166812896728516",
         "28.97905731201172",
         "234.02999877929688",
         "176.6416473388672",
         "350.52325439453125",
         "219.72865295410156",
         "39.19618606567383",
         "74.46564483642578",
         "211.46568298339844",
         "175.7599639892578",
         "55.31367492675781",
         "89.27574920654297",
         "239.7745819091797",
         "100.45425415039062",
         "363.4775390625",
         "139.73048400878906",
         "120.32316589355469",
         "44.255252838134766",
         "253.28614807128906",
         "158.1514892578125",
         "344.4071960449219",
         "193.73350524902344",
         "265.9306335449219",
         "68.17572784423828",
         "211.12852478027344",
         "71.87583923339844",
         "510.3999938964844",
         "529.6400146484375",
         "13.240254402160645",
         "59.3436279296875",
         "124.78437805175781",
         "123.32586669921875",
         "65.8302230834961",
         "141.36512756347656",
         "505.99700927734375",
         "293.3399963378906",
         "149.816162109375",
         "337.2022705078125",
         "208.1889190673828",
         "43.29545974731445",
         "29.73558807373047",
         "45.75874328613281",
         "37.47990036010742"
        ]
       ],
       "shape": {
        "columns": 50,
        "rows": 5
       }
      },
      "text/html": [
       "<div>\n",
       "<style scoped>\n",
       "    .dataframe tbody tr th:only-of-type {\n",
       "        vertical-align: middle;\n",
       "    }\n",
       "\n",
       "    .dataframe tbody tr th {\n",
       "        vertical-align: top;\n",
       "    }\n",
       "\n",
       "    .dataframe thead th {\n",
       "        text-align: right;\n",
       "    }\n",
       "</style>\n",
       "<table border=\"1\" class=\"dataframe\">\n",
       "  <thead>\n",
       "    <tr style=\"text-align: right;\">\n",
       "      <th>Ticker</th>\n",
       "      <th>AAPL</th>\n",
       "      <th>ABBV</th>\n",
       "      <th>ABT</th>\n",
       "      <th>ACN</th>\n",
       "      <th>ADBE</th>\n",
       "      <th>AMD</th>\n",
       "      <th>AMZN</th>\n",
       "      <th>AVGO</th>\n",
       "      <th>BAC</th>\n",
       "      <th>BRK-B</th>\n",
       "      <th>...</th>\n",
       "      <th>QCOM</th>\n",
       "      <th>TMO</th>\n",
       "      <th>TSLA</th>\n",
       "      <th>TXN</th>\n",
       "      <th>UNH</th>\n",
       "      <th>V</th>\n",
       "      <th>VZ</th>\n",
       "      <th>WFC</th>\n",
       "      <th>WMT</th>\n",
       "      <th>XOM</th>\n",
       "    </tr>\n",
       "    <tr>\n",
       "      <th>Date</th>\n",
       "      <th></th>\n",
       "      <th></th>\n",
       "      <th></th>\n",
       "      <th></th>\n",
       "      <th></th>\n",
       "      <th></th>\n",
       "      <th></th>\n",
       "      <th></th>\n",
       "      <th></th>\n",
       "      <th></th>\n",
       "      <th></th>\n",
       "      <th></th>\n",
       "      <th></th>\n",
       "      <th></th>\n",
       "      <th></th>\n",
       "      <th></th>\n",
       "      <th></th>\n",
       "      <th></th>\n",
       "      <th></th>\n",
       "      <th></th>\n",
       "      <th></th>\n",
       "    </tr>\n",
       "  </thead>\n",
       "  <tbody>\n",
       "    <tr>\n",
       "      <th>2021-01-04</th>\n",
       "      <td>126.096573</td>\n",
       "      <td>86.739716</td>\n",
       "      <td>99.687317</td>\n",
       "      <td>238.710388</td>\n",
       "      <td>485.339996</td>\n",
       "      <td>92.300003</td>\n",
       "      <td>159.331497</td>\n",
       "      <td>38.326294</td>\n",
       "      <td>26.751953</td>\n",
       "      <td>228.449997</td>\n",
       "      <td>...</td>\n",
       "      <td>134.018921</td>\n",
       "      <td>466.015076</td>\n",
       "      <td>243.256668</td>\n",
       "      <td>141.991013</td>\n",
       "      <td>324.313202</td>\n",
       "      <td>210.421097</td>\n",
       "      <td>43.615047</td>\n",
       "      <td>26.608820</td>\n",
       "      <td>45.727539</td>\n",
       "      <td>34.215038</td>\n",
       "    </tr>\n",
       "    <tr>\n",
       "      <th>2021-01-05</th>\n",
       "      <td>127.655594</td>\n",
       "      <td>87.636650</td>\n",
       "      <td>100.920723</td>\n",
       "      <td>240.069397</td>\n",
       "      <td>485.690002</td>\n",
       "      <td>92.769997</td>\n",
       "      <td>160.925507</td>\n",
       "      <td>38.585880</td>\n",
       "      <td>26.956846</td>\n",
       "      <td>227.470001</td>\n",
       "      <td>...</td>\n",
       "      <td>137.565704</td>\n",
       "      <td>471.842407</td>\n",
       "      <td>245.036667</td>\n",
       "      <td>143.032578</td>\n",
       "      <td>319.951965</td>\n",
       "      <td>207.280609</td>\n",
       "      <td>43.414944</td>\n",
       "      <td>27.352432</td>\n",
       "      <td>45.484123</td>\n",
       "      <td>35.863964</td>\n",
       "    </tr>\n",
       "    <tr>\n",
       "      <th>2021-01-06</th>\n",
       "      <td>123.358521</td>\n",
       "      <td>86.879585</td>\n",
       "      <td>100.710594</td>\n",
       "      <td>242.694138</td>\n",
       "      <td>466.309998</td>\n",
       "      <td>90.330002</td>\n",
       "      <td>156.919006</td>\n",
       "      <td>38.347935</td>\n",
       "      <td>28.640545</td>\n",
       "      <td>230.270004</td>\n",
       "      <td>...</td>\n",
       "      <td>136.446594</td>\n",
       "      <td>479.240265</td>\n",
       "      <td>251.993332</td>\n",
       "      <td>143.741562</td>\n",
       "      <td>333.379150</td>\n",
       "      <td>205.454315</td>\n",
       "      <td>43.941135</td>\n",
       "      <td>29.287621</td>\n",
       "      <td>45.768105</td>\n",
       "      <td>36.779114</td>\n",
       "    </tr>\n",
       "    <tr>\n",
       "      <th>2021-01-07</th>\n",
       "      <td>127.567932</td>\n",
       "      <td>87.809433</td>\n",
       "      <td>101.688164</td>\n",
       "      <td>244.983932</td>\n",
       "      <td>477.739990</td>\n",
       "      <td>95.160004</td>\n",
       "      <td>158.108002</td>\n",
       "      <td>39.964016</td>\n",
       "      <td>29.273041</td>\n",
       "      <td>232.880005</td>\n",
       "      <td>...</td>\n",
       "      <td>140.516815</td>\n",
       "      <td>494.174164</td>\n",
       "      <td>272.013336</td>\n",
       "      <td>146.997681</td>\n",
       "      <td>338.724121</td>\n",
       "      <td>206.604187</td>\n",
       "      <td>43.842255</td>\n",
       "      <td>29.950609</td>\n",
       "      <td>45.764980</td>\n",
       "      <td>37.067673</td>\n",
       "    </tr>\n",
       "    <tr>\n",
       "      <th>2021-01-08</th>\n",
       "      <td>128.668991</td>\n",
       "      <td>88.270264</td>\n",
       "      <td>101.971420</td>\n",
       "      <td>245.877502</td>\n",
       "      <td>485.100006</td>\n",
       "      <td>94.580002</td>\n",
       "      <td>159.134995</td>\n",
       "      <td>40.166813</td>\n",
       "      <td>28.979057</td>\n",
       "      <td>234.029999</td>\n",
       "      <td>...</td>\n",
       "      <td>141.365128</td>\n",
       "      <td>505.997009</td>\n",
       "      <td>293.339996</td>\n",
       "      <td>149.816162</td>\n",
       "      <td>337.202271</td>\n",
       "      <td>208.188919</td>\n",
       "      <td>43.295460</td>\n",
       "      <td>29.735588</td>\n",
       "      <td>45.758743</td>\n",
       "      <td>37.479900</td>\n",
       "    </tr>\n",
       "  </tbody>\n",
       "</table>\n",
       "<p>5 rows × 50 columns</p>\n",
       "</div>"
      ],
      "text/plain": [
       "Ticker            AAPL       ABBV         ABT         ACN        ADBE  \\\n",
       "Date                                                                    \n",
       "2021-01-04  126.096573  86.739716   99.687317  238.710388  485.339996   \n",
       "2021-01-05  127.655594  87.636650  100.920723  240.069397  485.690002   \n",
       "2021-01-06  123.358521  86.879585  100.710594  242.694138  466.309998   \n",
       "2021-01-07  127.567932  87.809433  101.688164  244.983932  477.739990   \n",
       "2021-01-08  128.668991  88.270264  101.971420  245.877502  485.100006   \n",
       "\n",
       "Ticker            AMD        AMZN       AVGO        BAC       BRK-B  ...  \\\n",
       "Date                                                                 ...   \n",
       "2021-01-04  92.300003  159.331497  38.326294  26.751953  228.449997  ...   \n",
       "2021-01-05  92.769997  160.925507  38.585880  26.956846  227.470001  ...   \n",
       "2021-01-06  90.330002  156.919006  38.347935  28.640545  230.270004  ...   \n",
       "2021-01-07  95.160004  158.108002  39.964016  29.273041  232.880005  ...   \n",
       "2021-01-08  94.580002  159.134995  40.166813  28.979057  234.029999  ...   \n",
       "\n",
       "Ticker            QCOM         TMO        TSLA         TXN         UNH  \\\n",
       "Date                                                                     \n",
       "2021-01-04  134.018921  466.015076  243.256668  141.991013  324.313202   \n",
       "2021-01-05  137.565704  471.842407  245.036667  143.032578  319.951965   \n",
       "2021-01-06  136.446594  479.240265  251.993332  143.741562  333.379150   \n",
       "2021-01-07  140.516815  494.174164  272.013336  146.997681  338.724121   \n",
       "2021-01-08  141.365128  505.997009  293.339996  149.816162  337.202271   \n",
       "\n",
       "Ticker               V         VZ        WFC        WMT        XOM  \n",
       "Date                                                                \n",
       "2021-01-04  210.421097  43.615047  26.608820  45.727539  34.215038  \n",
       "2021-01-05  207.280609  43.414944  27.352432  45.484123  35.863964  \n",
       "2021-01-06  205.454315  43.941135  29.287621  45.768105  36.779114  \n",
       "2021-01-07  206.604187  43.842255  29.950609  45.764980  37.067673  \n",
       "2021-01-08  208.188919  43.295460  29.735588  45.758743  37.479900  \n",
       "\n",
       "[5 rows x 50 columns]"
      ]
     },
     "execution_count": 32,
     "metadata": {},
     "output_type": "execute_result"
    }
   ],
   "source": [
    "price_data = price_data_range.pivot(index='Date', columns='Ticker', values='Adj Close')\n",
    "price_data.head()"
   ]
  },
  {
   "cell_type": "code",
   "execution_count": 33,
   "id": "e7ff2e0b",
   "metadata": {},
   "outputs": [
    {
     "data": {
      "text/plain": [
       "<Axes: xlabel='Ticker', ylabel='Ticker'>"
      ]
     },
     "execution_count": 33,
     "metadata": {},
     "output_type": "execute_result"
    },
    {
     "data": {
      "image/png": "[encoded data removed]",
      "text/plain": [
       "<Figure size 640x480 with 2 Axes>"
      ]
     },
     "metadata": {},
     "output_type": "display_data"
    }
   ],
   "source": [
    "corr = price_data.corr(method='kendall')\n",
    "sns.heatmap(corr, annot=False, cmap='coolwarm', center=0)"
   ]
  },
  {
   "cell_type": "code",
   "execution_count": 13,
   "id": "030c400c",
   "metadata": {},
   "outputs": [],
   "source": [
    "from scipy import optimize, stats\n",
    "\n",
    "\n",
    "def bw_scott(data: np.ndarray):\n",
    "    std_dev = np.std(data, axis=0, ddof=1)\n",
    "    n = len(data)\n",
    "    return 3.49 * std_dev * n ** (-0.333)\n",
    "\n",
    "def bw_silverman(data: np.ndarray):\n",
    "    def _select_sigma(x):\n",
    "        normalizer = 1.349\n",
    "        iqr = (stats.scoreatpercentile(x, 75) - stats.scoreatpercentile(x, 25)) / normalizer\n",
    "        std_dev = np.std(x, axis=0, ddof=1)\n",
    "        return np.minimum(std_dev, iqr) if iqr > 0 else std_dev\n",
    "    sigma = _select_sigma(data)\n",
    "    n = len(data)\n",
    "    return 0.9 * sigma * n ** (-0.2)\n",
    "\n",
    "def bw_mlcv(data: np.ndarray, k):\n",
    "    \"\"\"\n",
    "    Ref: https://rdrr.io/cran/kedd/src/R/MLCV.R\n",
    "    \"\"\"\n",
    "    n = len(data)\n",
    "    x = np.linspace(np.min(data), np.max(data), n)\n",
    "    def mlcv(h):\n",
    "        fj = np.zeros(n)\n",
    "        for j in range(n):\n",
    "            for i in range(n):\n",
    "                if i == j: continue\n",
    "                fj[j] += k((x[j] - data[i]) / h)\n",
    "            fj[j] /= (n - 1) * h\n",
    "        return -np.mean(np.log(fj[fj > 0]))\n",
    "    h = optimize.minimize(mlcv, 1)\n",
    "    if np.abs(h.x[0]) > 10:\n",
    "        return bw_scott(data)\n",
    "    return h.x[0]\n"
   ]
  },
  {
   "cell_type": "code",
   "execution_count": 4,
   "id": "2d456848",
   "metadata": {},
   "outputs": [],
   "source": [
    "def kernel(k: str):\n",
    "    \"\"\"Kernel function\n",
    "\n",
    "    Args:\n",
    "        k (str): kernel name: ['gaussian', 'epanechnikov']\n",
    "    \"\"\"\n",
    "    if k not in ['gaussian', 'epanechnikov']:\n",
    "        raise ValueError('Unknown kernel')\n",
    "    \n",
    "    def bounded(f): # decorator\n",
    "        def _f(x):  # wrapper function\n",
    "            return f(x) if np.abs(x) <= 1 else 0\n",
    "        return _f\n",
    "    \n",
    "    if k == 'gaussian':\n",
    "        return lambda u: 1 / np.sqrt(2 * np.pi) * np.exp(-1 / 2 * u * u)\n",
    "    elif k == 'epanechnikov':\n",
    "        return bounded(lambda u: (3 / 4 * (1 - u * u)))"
   ]
  },
  {
   "cell_type": "code",
   "execution_count": 19,
   "id": "a723a117",
   "metadata": {},
   "outputs": [],
   "source": [
    "def kernel_weights(t, s, h, S, k=None):\n",
    "    if k is None:\n",
    "        k = kernel('epanechnikov')\n",
    "    wh = k((t - s)/(S*h))\n",
    "    return wh/(S*h)"
   ]
  },
  {
   "cell_type": "code",
   "execution_count": 35,
   "id": "86f0deb0",
   "metadata": {},
   "outputs": [],
   "source": [
    "# calculate tau for a given t\n",
    "def kendall_tau_estimator(Y_A, Y_B, h=None):\n",
    "    assert len(Y_A) == len(Y_B), \"Length Y_A and Y_B must be same\"\n",
    "    if h is None:\n",
    "        h = 0.1\n",
    "        print(h)\n",
    "    S = len(Y_A) # both Y_A and Y_B needs to be of equal length\n",
    "    tau_estimates = []\n",
    "    # Create kernel function\n",
    "    k = kernel('epanechnikov')\n",
    "    for t in range(1,S+1):\n",
    "        # weights = np.array([k((t - s) / (S * h)) / (S * h) for s in range(1, S + 1)])\n",
    "        weights = np.array([kernel_weights(t, s, h, S) for s in range(1, S+1)])\n",
    "        normalize = 1 - np.sum(weights**2)\n",
    "        if normalize <=0:\n",
    "            raise ValueError(\"Normalization is less than 0, Adjust 'h'\")\n",
    "        summed_weights = 0\n",
    "        for s_idx, s in enumerate(range(1, S + 1)):\n",
    "            for r_idx, r in enumerate(range(1, S + 1)):\n",
    "                # Indicator function: I[{Y_A(s) < Y_A(r), Y_B(s) < Y_B(r)}]\n",
    "                # Using 0-indexing for arrays\n",
    "                indicator = int((Y_A[s_idx] < Y_A[r_idx]) and (Y_B[s_idx] < Y_B[r_idx]))\n",
    "                \n",
    "                summed_weights += weights[s_idx] * weights[r_idx] * indicator\n",
    "        tau_t = (4/normalize )*summed_weights-1\n",
    "        tau_estimates.append(tau_t)\n",
    "    return tau_estimates"
   ]
  },
  {
   "cell_type": "code",
   "execution_count": 52,
   "id": "2f7d9b2b",
   "metadata": {},
   "outputs": [
    {
     "name": "stdout",
     "output_type": "stream",
     "text": [
      "Tau estimate at t=10 is 0.954773343999854\n",
      "Tau estimate at t=50 is 0.954773343999854\n",
      "Tau estimate at t=90 is 0.954773343999854\n"
     ]
    },
    {
     "data": {
      "image/png": "[encoded data removed]",
      "text/plain": [
       "<Figure size 1200x500 with 2 Axes>"
      ]
     },
     "metadata": {},
     "output_type": "display_data"
    }
   ],
   "source": [
    "# test 1\n",
    "Y_A = np.arange(1, 101)\n",
    "Y_B = np.power(Y_A, 2)\n",
    "# Y_B = np.arange(100, 199)\n",
    "S = 100\n",
    "t = np.arange(1, S+1)\n",
    "tau_estimate = kendall_tau_estimator(Y_A, Y_B, h=0.05)\n",
    "for time_point in [10, 50, 90,]:\n",
    "    print(f\"Tau estimate at t={time_point} is {tau_estimate[time_point]}\")\n",
    "\n",
    "fig, (ax1, ax2) = plt.subplots(1, 2, figsize=(12, 5))\n",
    "ax1.plot(t, Y_A, label='Y_A')\n",
    "ax1.plot(t, Y_B, label='Y_B')\n",
    "ax1.set_xlabel('t')\n",
    "ax1.set_ylabel('Value')\n",
    "ax1.grid(True, alpha=0.3)\n",
    "ax1.set_title('Time Series Y_A and Y_B')\n",
    "ax1.legend()\n",
    "\n",
    "ax2.plot(t, tau_estimate)\n",
    "ax2.set_xlabel('t')\n",
    "ax2.set_ylabel(r'$\\tau$')\n",
    "ax2.set_title(\"Time-Varying Kendall's Tau\")\n",
    "ax2.grid(True, alpha=0.3)"
   ]
  }
 ],
 "metadata": {
  "kernelspec": {
   "display_name": "balance-continuous (3.13.6)",
   "language": "python",
   "name": "python3"
  },
  "language_info": {
   "codemirror_mode": {
    "name": "ipython",
    "version": 3
   },
   "file_extension": ".py",
   "mimetype": "text/x-python",
   "name": "python",
   "nbconvert_exporter": "python",
   "pygments_lexer": "ipython3",
   "version": "3.13.6"
  }
 },
 "nbformat": 4,
 "nbformat_minor": 5
}
