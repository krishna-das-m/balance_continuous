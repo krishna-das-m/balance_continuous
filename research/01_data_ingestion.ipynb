{
 "cells": [
  {
   "cell_type": "code",
   "execution_count": 1,
   "id": "ff793635",
   "metadata": {},
   "outputs": [],
   "source": [
    "from dataclasses import dataclass\n",
    "from pathlib import Path\n",
    "import os\n",
    "\n",
    "import yfinance as yf\n",
    "import requests\n",
    "import pandas as pd"
   ]
  },
  {
   "cell_type": "code",
   "execution_count": 2,
   "id": "9be05453",
   "metadata": {},
   "outputs": [
    {
     "data": {
      "text/plain": [
       "'c:\\\\Users\\\\Admin\\\\PhD Projects\\\\balance_continuous\\\\research'"
      ]
     },
     "execution_count": 2,
     "metadata": {},
     "output_type": "execute_result"
    }
   ],
   "source": [
    "%pwd"
   ]
  },
  {
   "cell_type": "code",
   "execution_count": 3,
   "id": "e4652b15",
   "metadata": {},
   "outputs": [],
   "source": [
    "os.chdir(\"../\")"
   ]
  },
  {
   "cell_type": "code",
   "execution_count": 4,
   "id": "dc44bd8a",
   "metadata": {},
   "outputs": [
    {
     "data": {
      "text/plain": [
       "'c:\\\\Users\\\\Admin\\\\PhD Projects\\\\balance_continuous'"
      ]
     },
     "execution_count": 4,
     "metadata": {},
     "output_type": "execute_result"
    }
   ],
   "source": [
    "%pwd"
   ]
  },
  {
   "cell_type": "code",
   "execution_count": 5,
   "id": "68e552cd",
   "metadata": {},
   "outputs": [],
   "source": [
    "@dataclass(frozen=True)\n",
    "class DataIngestionConfig:\n",
    "    root_dir: Path\n",
    "    local_data_file: Path"
   ]
  },
  {
   "cell_type": "code",
   "execution_count": 24,
   "id": "8fd353a1",
   "metadata": {},
   "outputs": [],
   "source": [
    "import pandas as pd\n",
    "import requests\n",
    "from io import StringIO\n",
    "\n",
    "# Add proper headers to mimic a browser request\n",
    "headers = {\n",
    "    'User-Agent': 'Mozilla/5.0 (Windows NT 10.0; Win64; x64) AppleWebKit/537.36 (KHTML, like Gecko) Chrome/91.0.4472.124 Safari/537.36'\n",
    "}\n",
    "\n",
    "link = \"https://en.wikipedia.org/wiki/List_of_S%26P_500_companies#S&P_500_component_stocks\"\n",
    "\n",
    "# Make the request with headers\n",
    "response = requests.get(link, headers=headers)\n",
    "response.raise_for_status()  # Raises an exception for bad status codes\n",
    "\n",
    "# Parse the HTML content\n",
    "df = pd.read_html(StringIO(response.text), header=0)[0]\n",
    "df['Symbol'].to_csv('SandP500Ticker.csv', header=0)"
   ]
  },
  {
   "cell_type": "code",
   "execution_count": 19,
   "id": "97ce4eae",
   "metadata": {},
   "outputs": [
    {
     "data": {
      "application/vnd.microsoft.datawrangler.viewer.v0+json": {
       "columns": [
        {
         "name": "index",
         "rawType": "int64",
         "type": "integer"
        },
        {
         "name": "Symbol",
         "rawType": "object",
         "type": "string"
        },
        {
         "name": "Security",
         "rawType": "object",
         "type": "string"
        },
        {
         "name": "GICS Sector",
         "rawType": "object",
         "type": "string"
        },
        {
         "name": "GICS Sub-Industry",
         "rawType": "object",
         "type": "string"
        },
        {
         "name": "Headquarters Location",
         "rawType": "object",
         "type": "string"
        },
        {
         "name": "Date added",
         "rawType": "object",
         "type": "string"
        },
        {
         "name": "CIK",
         "rawType": "int64",
         "type": "integer"
        },
        {
         "name": "Founded",
         "rawType": "object",
         "type": "string"
        }
       ],
       "ref": "dd3d94c5-21c7-4672-85ac-159e372f3c8d",
       "rows": [
        [
         "0",
         "MMM",
         "3M",
         "Industrials",
         "Industrial Conglomerates",
         "Saint Paul, Minnesota",
         "1957-03-04",
         "66740",
         "1902"
        ],
        [
         "1",
         "AOS",
         "A. O. Smith",
         "Industrials",
         "Building Products",
         "Milwaukee, Wisconsin",
         "2017-07-26",
         "91142",
         "1916"
        ],
        [
         "2",
         "ABT",
         "Abbott Laboratories",
         "Health Care",
         "Health Care Equipment",
         "North Chicago, Illinois",
         "1957-03-04",
         "1800",
         "1888"
        ],
        [
         "3",
         "ABBV",
         "AbbVie",
         "Health Care",
         "Biotechnology",
         "North Chicago, Illinois",
         "2012-12-31",
         "1551152",
         "2013 (1888)"
        ],
        [
         "4",
         "ACN",
         "Accenture",
         "Information Technology",
         "IT Consulting & Other Services",
         "Dublin, Ireland",
         "2011-07-06",
         "1467373",
         "1989"
        ]
       ],
       "shape": {
        "columns": 8,
        "rows": 5
       }
      },
      "text/html": [
       "<div>\n",
       "<style scoped>\n",
       "    .dataframe tbody tr th:only-of-type {\n",
       "        vertical-align: middle;\n",
       "    }\n",
       "\n",
       "    .dataframe tbody tr th {\n",
       "        vertical-align: top;\n",
       "    }\n",
       "\n",
       "    .dataframe thead th {\n",
       "        text-align: right;\n",
       "    }\n",
       "</style>\n",
       "<table border=\"1\" class=\"dataframe\">\n",
       "  <thead>\n",
       "    <tr style=\"text-align: right;\">\n",
       "      <th></th>\n",
       "      <th>Symbol</th>\n",
       "      <th>Security</th>\n",
       "      <th>GICS Sector</th>\n",
       "      <th>GICS Sub-Industry</th>\n",
       "      <th>Headquarters Location</th>\n",
       "      <th>Date added</th>\n",
       "      <th>CIK</th>\n",
       "      <th>Founded</th>\n",
       "    </tr>\n",
       "  </thead>\n",
       "  <tbody>\n",
       "    <tr>\n",
       "      <th>0</th>\n",
       "      <td>MMM</td>\n",
       "      <td>3M</td>\n",
       "      <td>Industrials</td>\n",
       "      <td>Industrial Conglomerates</td>\n",
       "      <td>Saint Paul, Minnesota</td>\n",
       "      <td>1957-03-04</td>\n",
       "      <td>66740</td>\n",
       "      <td>1902</td>\n",
       "    </tr>\n",
       "    <tr>\n",
       "      <th>1</th>\n",
       "      <td>AOS</td>\n",
       "      <td>A. O. Smith</td>\n",
       "      <td>Industrials</td>\n",
       "      <td>Building Products</td>\n",
       "      <td>Milwaukee, Wisconsin</td>\n",
       "      <td>2017-07-26</td>\n",
       "      <td>91142</td>\n",
       "      <td>1916</td>\n",
       "    </tr>\n",
       "    <tr>\n",
       "      <th>2</th>\n",
       "      <td>ABT</td>\n",
       "      <td>Abbott Laboratories</td>\n",
       "      <td>Health Care</td>\n",
       "      <td>Health Care Equipment</td>\n",
       "      <td>North Chicago, Illinois</td>\n",
       "      <td>1957-03-04</td>\n",
       "      <td>1800</td>\n",
       "      <td>1888</td>\n",
       "    </tr>\n",
       "    <tr>\n",
       "      <th>3</th>\n",
       "      <td>ABBV</td>\n",
       "      <td>AbbVie</td>\n",
       "      <td>Health Care</td>\n",
       "      <td>Biotechnology</td>\n",
       "      <td>North Chicago, Illinois</td>\n",
       "      <td>2012-12-31</td>\n",
       "      <td>1551152</td>\n",
       "      <td>2013 (1888)</td>\n",
       "    </tr>\n",
       "    <tr>\n",
       "      <th>4</th>\n",
       "      <td>ACN</td>\n",
       "      <td>Accenture</td>\n",
       "      <td>Information Technology</td>\n",
       "      <td>IT Consulting &amp; Other Services</td>\n",
       "      <td>Dublin, Ireland</td>\n",
       "      <td>2011-07-06</td>\n",
       "      <td>1467373</td>\n",
       "      <td>1989</td>\n",
       "    </tr>\n",
       "  </tbody>\n",
       "</table>\n",
       "</div>"
      ],
      "text/plain": [
       "  Symbol             Security             GICS Sector  \\\n",
       "0    MMM                   3M             Industrials   \n",
       "1    AOS          A. O. Smith             Industrials   \n",
       "2    ABT  Abbott Laboratories             Health Care   \n",
       "3   ABBV               AbbVie             Health Care   \n",
       "4    ACN            Accenture  Information Technology   \n",
       "\n",
       "                GICS Sub-Industry    Headquarters Location  Date added  \\\n",
       "0        Industrial Conglomerates    Saint Paul, Minnesota  1957-03-04   \n",
       "1               Building Products     Milwaukee, Wisconsin  2017-07-26   \n",
       "2           Health Care Equipment  North Chicago, Illinois  1957-03-04   \n",
       "3                   Biotechnology  North Chicago, Illinois  2012-12-31   \n",
       "4  IT Consulting & Other Services          Dublin, Ireland  2011-07-06   \n",
       "\n",
       "       CIK      Founded  \n",
       "0    66740         1902  \n",
       "1    91142         1916  \n",
       "2     1800         1888  \n",
       "3  1551152  2013 (1888)  \n",
       "4  1467373         1989  "
      ]
     },
     "execution_count": 19,
     "metadata": {},
     "output_type": "execute_result"
    }
   ],
   "source": [
    "df.head()"
   ]
  },
  {
   "cell_type": "code",
   "execution_count": 8,
   "id": "c96bb51c",
   "metadata": {},
   "outputs": [],
   "source": [
    "from sb_project.utils.common import read_yaml, create_directories"
   ]
  },
  {
   "cell_type": "code",
   "execution_count": 18,
   "id": "64cb0e15",
   "metadata": {},
   "outputs": [],
   "source": [
    "CONFIG_FILE_PATH = Path(\"config/config.yaml\")\n",
    "PARAMS_FILE_PATH = Path(\"config/params.yaml\")"
   ]
  },
  {
   "cell_type": "code",
   "execution_count": 36,
   "id": "36a5fe72",
   "metadata": {},
   "outputs": [],
   "source": [
    "class ConfigurationManager:\n",
    "    def __init__(\n",
    "            self, \n",
    "            config_filepath = CONFIG_FILE_PATH,\n",
    "            params_filepath = PARAMS_FILE_PATH\n",
    "    ):\n",
    "        self.config = read_yaml(config_filepath) \n",
    "        self.params = read_yaml(params_filepath)\n",
    "\n",
    "        create_directories([self.config.artifacts_root])\n",
    "\n",
    "    def get_data_ingestion_config(self) -> DataIngestionConfig:\n",
    "        config = self.config.data_ingestion\n",
    "        yf_config = self.config.yfinance_config\n",
    "\n",
    "        create_directories([config.root_dir])\n",
    "\n",
    "        data_ingestion_config = DataIngestionConfig(\n",
    "            root_dir=config.root_dir,\n",
    "            local_data_file=config.local_data_file,\n",
    "            tickers_url=yf_config.tickers,\n",
    "            start_date = yf_config.start_date,\n",
    "            interval = yf_config.interval,\n",
    "            auto_adjust = yf_config.auto_adjust\n",
    "        )\n",
    "\n",
    "        return data_ingestion_config"
   ]
  },
  {
   "cell_type": "code",
   "execution_count": 40,
   "id": "dcee640f",
   "metadata": {},
   "outputs": [
    {
     "name": "stdout",
     "output_type": "stream",
     "text": [
      "[2025-10-21 16:58:09,383: INFO: yaml file: config\\config.yaml loaded successfully]\n",
      "[2025-10-21 16:58:09,384: INFO: yaml file: config\\params.yaml loaded successfully]\n",
      "[2025-10-21 16:58:09,385: INFO: created directory at: artifacts]\n",
      "{'root_dir': 'artifacts/data_ingestion', 'local_data_file': 'artifacts/data/sandp500.zip'}\n",
      "https://raw.githubusercontent.com/krishna-das-m/balance_continuous/refs/heads/main/data/SandP500Ticker.csv\n"
     ]
    }
   ],
   "source": [
    "config_manager = ConfigurationManager()\n",
    "print(config_manager.config.data_ingestion)\n",
    "print(config_manager.config.yfinance_config.tickers)"
   ]
  },
  {
   "cell_type": "code",
   "execution_count": 6,
   "id": "992cf959",
   "metadata": {},
   "outputs": [],
   "source": [
    "from curl_cffi import requests"
   ]
  },
  {
   "cell_type": "code",
   "execution_count": null,
   "id": "820bbac0",
   "metadata": {},
   "outputs": [],
   "source": [
    "def get_tickers_list(file)-> list:\n",
    "    tickers = pd.read_csv(file, header=None)\n",
    "    ticker_list = tickers.loc[:,0].tolist()\n",
    "    return ticker_list\n",
    "\n",
    "def download_data(ticker:str, start_date=None, interval:str='1d'):\n",
    "    \"\"\"\n",
    "    Download stock data from Yahoo Finance.\n",
    "    \"\"\"\n",
    "    session = requests.Session(impersonate=\"chrome\")\n",
    "    if start_date is None:\n",
    "        start_date = '2000-01-01'\n",
    "    else:\n",
    "        start_date = pd.to_datetime(start_date)\n",
    "    data = yf.download(ticker, start=start_date, interval=interval, auto_adjust=False, session=session)\n",
    "    data.columns = data.columns.droplevel(1)  # Drop the first level of the column index\n",
    "    # data.reset_index(inplace=True)  # Reset the index to make 'Date' a column\n",
    "    return data\n",
    "\n",
    "def ticker_data(ticker_list):\n",
    "    stocks_df = pd.DataFrame()\n",
    "    for i,ticker in enumerate(ticker_list):\n",
    "        ticker_history = download_data(ticker)\n",
    "\n",
    "        if stocks_df.empty:\n",
    "            stocks_df = ticker_history\n",
    "        else:\n",
    "            stocks_df = pd.concat([stocks_df, ticker_history], ignore_index=True)\n",
    "    return stocks_df"
   ]
  },
  {
   "cell_type": "code",
   "execution_count": null,
   "id": "fa69f900",
   "metadata": {},
   "outputs": [],
   "source": [
    "class DataIngestion:\n",
    "    def __init__(self, config: DataIngestionConfig):\n",
    "        self. config = config\n",
    "\n",
    "    \n",
    "    def download_data(self):\n",
    "        pass"
   ]
  },
  {
   "cell_type": "code",
   "execution_count": null,
   "id": "6f86fd8c",
   "metadata": {},
   "outputs": [],
   "source": []
  }
 ],
 "metadata": {
  "kernelspec": {
   "display_name": "balance-continuous (3.13.6)",
   "language": "python",
   "name": "python3"
  },
  "language_info": {
   "codemirror_mode": {
    "name": "ipython",
    "version": 3
   },
   "file_extension": ".py",
   "mimetype": "text/x-python",
   "name": "python",
   "nbconvert_exporter": "python",
   "pygments_lexer": "ipython3",
   "version": "3.13.6"
  }
 },
 "nbformat": 4,
 "nbformat_minor": 5
}
